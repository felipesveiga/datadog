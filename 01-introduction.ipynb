{
 "cells": [
  {
   "cell_type": "markdown",
   "id": "900a5e37-b806-44ff-9367-a5486e3071ed",
   "metadata": {},
   "source": [
    "<h1 style='font-size:40px'> Introduction</h1>"
   ]
  },
  {
   "cell_type": "markdown",
   "id": "3dce0d15-e20b-4268-b0d7-f91b2c9fd2d0",
   "metadata": {
    "jp-MarkdownHeadingCollapsed": true
   },
   "source": [
    "<h2 style='font-size:30px'> What is Application Performance Management?\n",
    "</h2>\n",
    "<div> \n",
    "    <ul style='font-size:20px'> \n",
    "        <li> \n",
    "            Application Performance Management (APM) é a prática de monitorar aplicações críticas ao negócio de sua empresa.\n",
    "        </li>\n",
    "        <li>\n",
    "            Os softwares de APM conseguem detalhar o funcionamento de todas as partes de sua aplicação, como frontend, backend e infra.\n",
    "        </li>\n",
    "        <li>\n",
    "            Os 4 principais pontos a serem monitorados pelo seu software de APM são:\n",
    "            <ul> \n",
    "                <li>\n",
    "                    Latência\n",
    "                </li>\n",
    "                <li>\n",
    "                    Tráfego\n",
    "                </li>\n",
    "                <li>\n",
    "                    Saturação: % dos recursos sendo consumidos.\n",
    "                </li>\n",
    "                <li>\n",
    "                    Erros\n",
    "                </li>\n",
    "            </ul>\n",
    "        </li>\n",
    "    </ul>\n",
    "</div>"
   ]
  }
 ],
 "metadata": {
  "kernelspec": {
   "display_name": "Python 3 (ipykernel)",
   "language": "python",
   "name": "python3"
  },
  "language_info": {
   "codemirror_mode": {
    "name": "ipython",
    "version": 3
   },
   "file_extension": ".py",
   "mimetype": "text/x-python",
   "name": "python",
   "nbconvert_exporter": "python",
   "pygments_lexer": "ipython3",
   "version": "3.10.12"
  }
 },
 "nbformat": 4,
 "nbformat_minor": 5
}
