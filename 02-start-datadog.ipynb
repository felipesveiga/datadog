{
 "cells": [
  {
   "cell_type": "markdown",
   "id": "c29dfd63-b1e0-44e3-bdbc-4c8ae9e5e8aa",
   "metadata": {},
   "source": [
    "<h1 style='font-size:40px'> Get started with Datadog: Registration, Pricing, and Agent installation</h1>"
   ]
  },
  {
   "cell_type": "markdown",
   "id": "c5e58765-73ff-488d-8f10-635f9d760c5a",
   "metadata": {
    "jp-MarkdownHeadingCollapsed": true
   },
   "source": [
    "<h2 style='font-size:30px'> What is Datadog and why do we need it?\n",
    "</h2>\n",
    "<div> \n",
    "    <ul style='font-size:20px'> \n",
    "        <li> \n",
    "            DataDog é uma das principais ferramentas de APM do mercado, tendo integração com vários serviços (AWS, MongoDB, SQL).\n",
    "        </li>\n",
    "        <li>\n",
    "            O envio dos dados de nossas aplicações pode ocorrer de três maneiras: com o DataDog Agent, DataDog API, ou integrações.\n",
    "        </li>\n",
    "    </ul>\n",
    "</div>"
   ]
  },
  {
   "cell_type": "code",
   "execution_count": 2,
   "id": "929c837a-440f-44f3-889a-b37c542e31ef",
   "metadata": {
    "scrolled": true
   },
   "outputs": [
    {
     "name": "stdout",
     "output_type": "stream",
     "text": [
      "[master 76307e1] Aula 158\n",
      " 3 files changed, 130 insertions(+), 24 deletions(-)\n",
      " create mode 100644 img/15_cloudfront_diagram.png\n",
      "Enumerating objects: 10, done.\n",
      "Counting objects: 100% (10/10), done.\n",
      "Delta compression using up to 24 threads\n",
      "Compressing objects: 100% (6/6), done.\n",
      "Writing objects: 100% (6/6), 76.89 KiB | 38.44 MiB/s, done.\n",
      "Total 6 (delta 4), reused 0 (delta 0), pack-reused 0\n",
      "remote: Resolving deltas: 100% (4/4), completed with 4 local objects.\u001b[K\n",
      "To https://github.com/felipesveiga/aws-developer.git\n",
      "   2976005..76307e1  master -> master\n"
     ]
    }
   ],
   "source": [
    "! git add .\n",
    "! git commit -am 'Aula 3 (1:30)'\n",
    "! git push"
   ]
  },
  {
   "cell_type": "markdown",
   "id": "2fd81614-265c-4621-b1d7-ccab1fb30a32",
   "metadata": {
    "editable": true,
    "slideshow": {
     "slide_type": ""
    },
    "tags": []
   },
   "source": [
    "<p style='color:red'> Vi seção 1; Iniciei Aula 3; Aula 3 (1:30)"
   ]
  }
 ],
 "metadata": {
  "kernelspec": {
   "display_name": "Python 3 (ipykernel)",
   "language": "python",
   "name": "python3"
  },
  "language_info": {
   "codemirror_mode": {
    "name": "ipython",
    "version": 3
   },
   "file_extension": ".py",
   "mimetype": "text/x-python",
   "name": "python",
   "nbconvert_exporter": "python",
   "pygments_lexer": "ipython3",
   "version": "3.10.12"
  }
 },
 "nbformat": 4,
 "nbformat_minor": 5
}
