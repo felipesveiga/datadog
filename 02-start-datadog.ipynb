{
 "cells": [
  {
   "cell_type": "markdown",
   "id": "c29dfd63-b1e0-44e3-bdbc-4c8ae9e5e8aa",
   "metadata": {},
   "source": [
    "<h1 style='font-size:40px'> Get started with Datadog: Registration, Pricing, and Agent installation</h1>"
   ]
  },
  {
   "cell_type": "markdown",
   "id": "c5e58765-73ff-488d-8f10-635f9d760c5a",
   "metadata": {
    "jp-MarkdownHeadingCollapsed": true
   },
   "source": [
    "<h2 style='font-size:30px'> What is Datadog and why do we need it?\n",
    "</h2>\n",
    "<div> \n",
    "    <ul style='font-size:20px'> \n",
    "        <li> \n",
    "            DataDog é uma das principais ferramentas de APM do mercado, tendo integração com vários serviços (AWS, MongoDB, SQL).\n",
    "        </li>\n",
    "        <li>\n",
    "            O envio dos dados de nossas aplicações pode ocorrer de três maneiras: com o DataDog Agent, DataDog API, ou integrações.\n",
    "        </li>\n",
    "        <li>\n",
    "            De maneira geral, o DataDog é capaz de coletar métricas, eventos, logs e traces de nossas aplicações.\n",
    "        </li>\n",
    "    </ul>\n",
    "</div>"
   ]
  },
  {
   "cell_type": "markdown",
   "id": "ab03bd9b-0939-4afc-abf0-88c48aa80e06",
   "metadata": {
    "jp-MarkdownHeadingCollapsed": true
   },
   "source": [
    "<h2 style='font-size:30px'> Basic Definitions - host, agent and tags\n",
    "</h2>\n",
    "<div> \n",
    "    <ul style='font-size:20px'> \n",
    "        <li> \n",
    "            O Datadog possui alguns conceitos fundamentais que são importantes dominarmos desde o início do curso:\n",
    "            <ul> \n",
    "                <li>\n",
    "                    <i> Host</i>: O servidor que o DataDog monitorará.\n",
    "                </li>\n",
    "                <li>\n",
    "                    <i> Agent</i>: O software do DataDog responsável por coletar as métricas necessárias do seu Host.\n",
    "                </li>\n",
    "                <li>\n",
    "                    <i> Tags</i>: Metadados adicionais que o usuário pode adicionar às suas telemetrias a fim de usá-los como filtros.\n",
    "                </li>\n",
    "            </ul>\n",
    "        </li>\n",
    "    </ul>\n",
    "</div>"
   ]
  },
  {
   "cell_type": "code",
   "execution_count": 1,
   "id": "929c837a-440f-44f3-889a-b37c542e31ef",
   "metadata": {
    "scrolled": true
   },
   "outputs": [
    {
     "name": "stdout",
     "output_type": "stream",
     "text": [
      "[master 2f31aa0] Aula 3 (1:30)\n",
      " 4 files changed, 344 insertions(+)\n",
      " create mode 100644 .ipynb_checkpoints/01-introduction-checkpoint.ipynb\n",
      " create mode 100644 .ipynb_checkpoints/02-start-datadog-checkpoint.ipynb\n",
      " create mode 100644 01-introduction.ipynb\n",
      " create mode 100644 02-start-datadog.ipynb\n",
      "Enumerating objects: 6, done.\n",
      "Counting objects: 100% (6/6), done.\n",
      "Delta compression using up to 24 threads\n",
      "Compressing objects: 100% (5/5), done.\n",
      "Writing objects: 100% (5/5), 2.15 KiB | 2.15 MiB/s, done.\n",
      "Total 5 (delta 1), reused 0 (delta 0), pack-reused 0\n",
      "remote: Resolving deltas: 100% (1/1), done.\u001b[K\n",
      "To https://github.com/felipesveiga/datadog.git\n",
      "   986bfd7..2f31aa0  master -> master\n"
     ]
    }
   ],
   "source": [
    "! git add .\n",
    "! git commit -am 'Aula 6'\n",
    "! git push"
   ]
  },
  {
   "cell_type": "markdown",
   "id": "2fd81614-265c-4621-b1d7-ccab1fb30a32",
   "metadata": {
    "editable": true,
    "slideshow": {
     "slide_type": ""
    },
    "tags": []
   },
   "source": [
    "<p style='color:red'> Vi Aula 3 a 5; Aula 6"
   ]
  }
 ],
 "metadata": {
  "kernelspec": {
   "display_name": "Python 3 (ipykernel)",
   "language": "python",
   "name": "python3"
  },
  "language_info": {
   "codemirror_mode": {
    "name": "ipython",
    "version": 3
   },
   "file_extension": ".py",
   "mimetype": "text/x-python",
   "name": "python",
   "nbconvert_exporter": "python",
   "pygments_lexer": "ipython3",
   "version": "3.10.12"
  }
 },
 "nbformat": 4,
 "nbformat_minor": 5
}
