{
 "cells": [
  {
   "cell_type": "markdown",
   "id": "188f31e3-2798-4fbb-ab45-ec947f6706dc",
   "metadata": {},
   "source": [
    "<h1 style='font-size:40px'> Datadog Metrics: Explorer, Summary and Metric Types</h1>"
   ]
  },
  {
   "cell_type": "markdown",
   "id": "01047cb7-67cc-47a6-9548-e0cf875f977d",
   "metadata": {},
   "source": [
    "<h2 style='font-size:30px'> \n",
    "    Metrics Explorer</h2>\n",
    "<div> \n",
    "    <ul style='font-size:20px'> \n",
    "        <li> \n",
    "            O Metrics Explorer é um menu da aba \"Metrics\" em que podemos criar gráficos customizados sobre uma determinada métrica.\n",
    "        </li>\n",
    "        <li>\n",
    "            Conseguimos levar os gráficos gerados nesse menu para dashboards.\n",
    "        </li>\n",
    "    </ul>\n",
    " </div>"
   ]
  },
  {
   "cell_type": "markdown",
   "id": "d21e83f2-ade9-4118-bf3a-f12bb5c138ac",
   "metadata": {},
   "source": [
    "<figure>\n",
    "    <center style='font-size:20px;margin-top:20px'> \n",
    "           <img src='img/05_metrics_explorer.png'>\n",
    "        <figcaption style='font-size:15px'>\n",
    "            Menu do Cost Explorer.\n",
    "        </figcaption>\n",
    "    </center>\n",
    "</figure>"
   ]
  },
  {
   "cell_type": "markdown",
   "id": "8e377dbd-bd7d-4780-871f-0cc151d13bd8",
   "metadata": {},
   "source": [
    "<h2 style='font-size:30px'> \n",
    "    Metrics Summary and Metrics Types</h2>\n",
    "<div> \n",
    "    <ul style='font-size:20px'> \n",
    "        <li> \n",
    "            O Metrics Summary é um catálogo com todas as métricas coletadas pelo seu agente. Nele, você pode enxergar \n",
    "        </li>\n",
    "        <li>\n",
    "            Ao selecionar uma métrica, você consegue alterar a sua unidade de medida, o seu Metric Type e o Flush Interval.\n",
    "        </li>\n",
    "        <li>\n",
    "            O flush interval é o intervalo de tempo em que seu agente coletará medidas da métrica de seu host, encaminhando ao Datadog apenas um único valor representando todo esse período. Este pode ser uma média, máximo, etc.\n",
    "        </li>\n",
    "    </ul>\n",
    " </div>"
   ]
  },
  {
   "cell_type": "markdown",
   "id": "84b81c24-b70d-4404-8b51-2a282974fa88",
   "metadata": {},
   "source": [
    "<h3 style='font-size:30px;font-style:italic'> Metric Types</h3>\n",
    "<div> \n",
    "    <ul style='font-size:20px'> \n",
    "        <li> \n",
    "            Os Metrics Types representam a maneira como os valores da métrica coletados são tratados.\n",
    "            <ul> \n",
    "                <li>\n",
    "                    <i> Count:</i> Contagem de ocorrências do evento no flush interval.\n",
    "                </li>\n",
    "                <li>\n",
    "                    <i> Rate:</i> Taxa de quantidade de ocorrências por segundo, no intervalo definido ($\\frac{\\text{COUNT}}{INTERVAL}$).\n",
    "                </li>\n",
    "                <li>\n",
    "                    <i> Gauge:</i> Consiste no último valor da métrica obtido durante o flush interval.\n",
    "                </li>\n",
    "                <li>\n",
    "                    <i> Histogram:</i> Coleção de estatísticas gerais sobre o vetor de valores coletado durante o intervalo (contagem, média, máximo...). Você pode configurar quais o agente deve produzir em seu datadog.yaml. \n",
    "                </li>\n",
    "                <li>\n",
    "                    <i> Distribution:</i> O vetor com os valores crus registrados pelo agente.\n",
    "                </li>\n",
    "            </ul>\n",
    "        </li>\n",
    "    </ul>\n",
    "</div>"
   ]
  }
 ],
 "metadata": {
  "kernelspec": {
   "display_name": "Python 3 (ipykernel)",
   "language": "python",
   "name": "python3"
  },
  "language_info": {
   "codemirror_mode": {
    "name": "ipython",
    "version": 3
   },
   "file_extension": ".py",
   "mimetype": "text/x-python",
   "name": "python",
   "nbconvert_exporter": "python",
   "pygments_lexer": "ipython3",
   "version": "3.10.12"
  }
 },
 "nbformat": 4,
 "nbformat_minor": 5
}
