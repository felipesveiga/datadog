{
 "cells": [
  {
   "cell_type": "markdown",
   "id": "188f31e3-2798-4fbb-ab45-ec947f6706dc",
   "metadata": {},
   "source": [
    "<h1 style='font-size:40px'> Datadog Metrics: Explorer, Summary and Metric Types</h1>"
   ]
  },
  {
   "cell_type": "markdown",
   "id": "01047cb7-67cc-47a6-9548-e0cf875f977d",
   "metadata": {},
   "source": [
    "<h2 style='font-size:30px'> \n",
    "    Metrics Explorer</h2>\n",
    "<div> \n",
    "    <ul style='font-size:20px'> \n",
    "        <li> \n",
    "            O Metrics Explorer é um menu da aba \"Metrics\" em que podemos criar gráficos customizados sobre uma determinada métrica.\n",
    "        </li>\n",
    "        <li>\n",
    "            Conseguimos levar os gráficos gerados nesse menu para dashboards.\n",
    "        </li>\n",
    "    </ul>\n",
    " </div>"
   ]
  },
  {
   "cell_type": "markdown",
   "id": "d21e83f2-ade9-4118-bf3a-f12bb5c138ac",
   "metadata": {},
   "source": [
    "<figure>\n",
    "    <center style='font-size:20px;margin-top:20px'> \n",
    "           <img src='img/05_metrics_explorer.png'>\n",
    "        <figcaption style='font-size:15px'>\n",
    "            Menu do Cost Explorer.\n",
    "        </figcaption>\n",
    "    </center>\n",
    "</figure>"
   ]
  },
  {
   "cell_type": "code",
   "execution_count": 1,
   "id": "5b9936d2-b4bb-4503-b663-f389c62a1230",
   "metadata": {
    "scrolled": true
   },
   "outputs": [
    {
     "name": "stdout",
     "output_type": "stream",
     "text": [
      "[master b8c2888] Aula 10 (3:35)\n",
      " 4 files changed, 228 insertions(+), 94 deletions(-)\n",
      " create mode 100644 .ipynb_checkpoints/04-host-infrastructure-checkpoint.ipynb\n",
      " create mode 100644 04-host-infrastructure.ipynb\n",
      "Enumerating objects: 8, done.\n",
      "Counting objects: 100% (8/8), done.\n",
      "Delta compression using up to 24 threads\n",
      "Compressing objects: 100% (5/5), done.\n",
      "Writing objects: 100% (5/5), 1.11 KiB | 1.11 MiB/s, done.\n",
      "Total 5 (delta 4), reused 0 (delta 0), pack-reused 0\n",
      "remote: Resolving deltas: 100% (4/4), completed with 3 local objects.\u001b[K\n",
      "To https://github.com/felipesveiga/datadog.git\n",
      "   80e485f..b8c2888  master -> master\n"
     ]
    }
   ],
   "source": [
    "! git add .\n",
    "! git commit -am 'Aula 12'\n",
    "! git push"
   ]
  },
  {
   "cell_type": "markdown",
   "id": "32143efe-5ce5-4a1c-bd10-98144c509b53",
   "metadata": {
    "editable": true,
    "slideshow": {
     "slide_type": ""
    },
    "tags": []
   },
   "source": [
    "<p style='color:red'> Vi Aula 10 a 11; Aula 12"
   ]
  }
 ],
 "metadata": {
  "kernelspec": {
   "display_name": "Python 3 (ipykernel)",
   "language": "python",
   "name": "python3"
  },
  "language_info": {
   "codemirror_mode": {
    "name": "ipython",
    "version": 3
   },
   "file_extension": ".py",
   "mimetype": "text/x-python",
   "name": "python",
   "nbconvert_exporter": "python",
   "pygments_lexer": "ipython3",
   "version": "3.10.12"
  }
 },
 "nbformat": 4,
 "nbformat_minor": 5
}
