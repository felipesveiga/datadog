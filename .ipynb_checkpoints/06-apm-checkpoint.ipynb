{
 "cells": [
  {
   "cell_type": "markdown",
   "id": "041159d3-3ed9-461d-8bfd-2685fbce36a9",
   "metadata": {},
   "source": [
    "<h1 style='font-size:40px'> Datadog APM: Download, Installation, Services, Traces and Error Tracking</h1>\n",
    "<div> \n",
    "    <ul style='font-size:20px'> \n",
    "        <li> \n",
    "            O Datadog APM é o serviço de monitoração de aplicações. Com ele, você conseguirá ter acesso a informações como logs e taxas de erro de seu software.\n",
    "        </li>\n",
    "    </ul>\n",
    " </div>"
   ]
  },
  {
   "cell_type": "markdown",
   "id": "937921c0-ced6-4289-b859-c5a70cfe739f",
   "metadata": {},
   "source": [
    "<h2 style='font-size:30px'> \n",
    "    APM - download, installation and basic configuration\n",
    "</h2>\n",
    "<div> \n",
    "    <ul style='font-size:20px'> \n",
    "        <li> \n",
    "            O funcionamento do APM precisa que você tenha tanto o seu agente, quanto o APM Tracer Client. Este último será o resposável por passar os dados ao agente, este o qual os enviará ao Datadog. \n",
    "        </li>\n",
    "        <li>\n",
    "            Além disso, você precisará definir algumas variáveis de ambiente em sua aplicação:\n",
    "            <ul> \n",
    "                <li>\n",
    "                    <i> DD_ENV</i>: Ambiente de deployment (dev, hom, prod).\n",
    "                </li>\n",
    "                <li>\n",
    "                    <i> DD_VERSION</i>: Versão da aplicação.\n",
    "                </li>\n",
    "            </ul>\n",
    "        </li>\n",
    "    </ul>\n",
    " </div>"
   ]
  },
  {
   "cell_type": "markdown",
   "id": "ee88e761-6849-40d3-9818-28aaa0006afe",
   "metadata": {},
   "source": [
    "<h2 style='font-size:30px'> \n",
    "    APM - Terminologias\n",
    "</h2>\n",
    "<div> \n",
    "    <ul style='font-size:20px'> \n",
    "        <li> \n",
    "            O Datadog APM possui algumas terminologias que são bastante importantes de serem entendidas.\n",
    "        </li>\n",
    "    </ul>\n",
    " </div>"
   ]
  },
  {
   "cell_type": "markdown",
   "id": "d65f902c-3a45-4a85-a7cd-509f6550e05e",
   "metadata": {},
   "source": [
    "<h3 style='font-size:30px;font-style:italic'> \n",
    "    Service\n",
    "</h3>\n",
    "<div> \n",
    "    <ul style='font-size:20px'> \n",
    "        <li>\n",
    "            Um service corresponde a uma aplicação qualquer sendo monitorada em sua empresa.\n",
    "        </li>\n",
    "    </ul>\n",
    "</div>"
   ]
  },
  {
   "cell_type": "markdown",
   "id": "14704ded-695e-4966-9b22-5dc363718df0",
   "metadata": {},
   "source": [
    "<h3 style='font-size:30px;font-style:italic'> \n",
    "    Resource\n",
    "</h3>\n",
    "<div> \n",
    "    <ul style='font-size:20px'> \n",
    "        <li>\n",
    "            Representa um domínio de um determinado service. Esse poderia ser um caminho em seu web site, ou um método HTTP numa rota específica de API (GET /funcionarios/{id}).\n",
    "        </li>\n",
    "    </ul>\n",
    "</div>"
   ]
  },
  {
   "cell_type": "markdown",
   "id": "67cef382-5687-4f79-9b83-15e7ed99d76d",
   "metadata": {},
   "source": [
    "<h3 style='font-size:30px;font-style:italic'> \n",
    "    Trace\n",
    "</h3>\n",
    "<div> \n",
    "    <ul style='font-size:20px'> \n",
    "        <li>\n",
    "            Representa uma transação realizada em seu serviço. Podemos entendê-la como uma instância de um resource qualquer também. \n",
    "        </li>\n",
    "    </ul>\n",
    "</div>"
   ]
  },
  {
   "cell_type": "markdown",
   "id": "a40fffbd-8b18-42c0-b1f8-fac05e3b30eb",
   "metadata": {},
   "source": [
    "<h2 style='font-size:30px'> \n",
    "    APM Services and Service Map\n",
    "</h2>\n",
    "<div> \n",
    "    <ul style='font-size:20px'> \n",
    "        <li> \n",
    "            O menu de APM tem uma seção inteiramente dedicada às estatísticas gerais dos nossos serviços.\n",
    "        </li>\n",
    "        <li>\n",
    "            Ela trará uma tabela com informações como número de requisições e percentis. Podemos alterar as suas colunas, caso quisermos. Ainda podemos salvar as configurações da tabela como uma view, para termos diferentes visualizações de nossos dados à nossa disposição.\n",
    "        </li>\n",
    "    </ul>\n",
    " </div>"
   ]
  },
  {
   "attachments": {},
   "cell_type": "markdown",
   "id": "24fc5802-22c0-487b-bb89-685035afa405",
   "metadata": {},
   "source": [
    " <center style='font-size:20px;margin-top:20px'> \n",
    "        <figure>\n",
    "            <img src='img/06-service-table.png'>\n",
    "        <figcaption style='font-size:15px'>\n",
    "            Tabela com os dados de serviços.\n",
    "        </figcaption>\n",
    "        </figure>\n",
    "    </center>"
   ]
  },
  {
   "cell_type": "markdown",
   "id": "8fd1f340-0225-4d93-8e51-9bdac1261c38",
   "metadata": {},
   "source": [
    "<h3 style='font-size:30px;font-style:italic'> \n",
    "    Service Dashboard\n",
    "</h3>\n",
    "<div> \n",
    "    <ul style='font-size:20px'> \n",
    "        <li>\n",
    "            Ao clicar no nome de qualquer serviço, você será levado a um dashboard com as principais informações de sua performance.\n",
    "        </li>\n",
    "        <li>\n",
    "            Entre as métricas, se encontram requisições, erros, latência.\n",
    "        </li>\n",
    "        <li>\n",
    "            Um recurso bastante interessante dessa visualização é uma tabela com as latências de cada resource da nossa aplicação.\n",
    "        </li>\n",
    "    </ul>\n",
    "</div>"
   ]
  },
  {
   "attachments": {},
   "cell_type": "markdown",
   "id": "c36f8210-cfae-408d-8697-bc6d66c89aaa",
   "metadata": {},
   "source": [
    " <center style='font-size:20px;margin-top:20px'> \n",
    "        <figure>\n",
    "            <img src='img/06-resource-latency.png'>\n",
    "        <figcaption style='font-size:15px'>\n",
    "            Tabela com os dados dos resources.\n",
    "        </figcaption>\n",
    "        </figure>\n",
    "    </center>"
   ]
  },
  {
   "cell_type": "markdown",
   "id": "39df372e-a0e0-4842-a3a2-1e64521a64e7",
   "metadata": {},
   "source": [
    "<h3 style='font-size:30px;font-style:italic'> \n",
    "    Resource Dashboard\n",
    "</h3>\n",
    "<div> \n",
    "    <ul style='font-size:20px'> \n",
    "        <li>\n",
    "            Ao clicarmos no nome de um Resource qualquer da tabela acima, somos direcionados a um outro dashboard, que apresenta informações de performance específicas àquela rota.\n",
    "        </li>\n",
    "    </ul>\n",
    "</div>"
   ]
  },
  {
   "cell_type": "markdown",
   "id": "bfb521a3-c84a-45bb-85e7-6542670af094",
   "metadata": {},
   "source": [
    "<h4 style='font-size:30px;font-style:italic;text-decoration:underline'> Span Summary\n",
    "</h4>\n",
    "<div> \n",
    "    <ul style='font-size:20px'> \n",
    "        <li>\n",
    "            O Span Summary é uma visualização do dashboard de Resources que indica a performance de cada operação feita quando esse é acionado.\n",
    "        </li>\n",
    "    </ul>\n",
    "</div>"
   ]
  },
  {
   "attachments": {},
   "cell_type": "markdown",
   "id": "7e22f07d-e3e2-4249-a74a-f940ea8ba143",
   "metadata": {},
   "source": [
    " <center style='font-size:20px;margin-top:20px'> \n",
    "        <figure>\n",
    "            <img src='img/06-span-summary.png'>\n",
    "        <figcaption style='font-size:15px'>\n",
    "            Tabela de Span Summaries.\n",
    "        </figcaption>\n",
    "        </figure>\n",
    "    </center>"
   ]
  },
  {
   "cell_type": "markdown",
   "id": "628ce3cf-7c9c-4fce-a5cd-532284f11226",
   "metadata": {},
   "source": [
    "<h4 style='font-size:30px;font-style:italic;text-decoration:underline'> Trace Table\n",
    "</h4>\n",
    "<div> \n",
    "    <ul style='font-size:20px'> \n",
    "        <li>\n",
    "            Por fim, o dashboard de Resources trará uma tabela com as informações de cada uma de suas instâncias (transações). Ao clicar em uma das linhas, você terá o olhar mais granularizado possível sobre o funcionamento de sua aplicação, com acesso aos logs gerados durante a execução da operação.\n",
    "        </li>\n",
    "    </ul>\n",
    "</div>"
   ]
  },
  {
   "attachments": {},
   "cell_type": "markdown",
   "id": "fd81beaf-48e8-481d-a90d-38bd55c2d376",
   "metadata": {},
   "source": [
    " <center style='font-size:20px;margin-top:20px'> \n",
    "        <figure>\n",
    "            <img src='img/06-resource-traces-table.png'>\n",
    "        <figcaption style='font-size:15px'>\n",
    "            Tabela de Traces.\n",
    "        </figcaption>\n",
    "        </figure>\n",
    "    </center>"
   ]
  },
  {
   "cell_type": "markdown",
   "id": "d871b9b5-faf3-468c-a043-470ee5652d66",
   "metadata": {},
   "source": [
    "<h3 style='font-size:30px;font-style:italic'> \n",
    "    Service Map\n",
    "</h3>\n",
    "<div> \n",
    "    <ul style='font-size:20px'> \n",
    "        <li>\n",
    "              O Service Map é uma visualização que ilustra a dependência entre as diversas aplicações de sua empresa. Nela, conseguimos ainda enxergar algumas estatísticas de cada serviço.\n",
    "        </li>\n",
    "    </ul>\n",
    "</div>"
   ]
  },
  {
   "attachments": {},
   "cell_type": "markdown",
   "id": "1d040a06-b816-4ef9-adb1-20a7ac217fe5",
   "metadata": {},
   "source": [
    " <center style='font-size:20px;margin-top:20px'> \n",
    "        <figure>\n",
    "            <img src='img/06-service-map.png'>\n",
    "        <figcaption style='font-size:15px'>\n",
    "        </figcaption>\n",
    "        </figure>\n",
    "    </center>"
   ]
  },
  {
   "cell_type": "markdown",
   "id": "7b82b8ff-3b52-4e0f-8b52-efadf0fde2cb",
   "metadata": {},
   "source": [
    "<h2 style='font-size:30px'> \n",
    "    APM Traces - Transactions, Basic search, Search pane and Facets\n",
    "</h2>\n",
    "<div> \n",
    "    <ul style='font-size:20px'> \n",
    "        <li> \n",
    "            O menu de traces disponibiliza alguns gráficos e uma tabela sobre todas as transações ocorridas nos sistemas de sua empresa.\n",
    "        </li>\n",
    "        <li>\n",
    "            Você tem a opção de criar views que possibilitem enxergar os dados de apenas os resources que interessam à sua equipe.\n",
    "        </li>\n",
    "        <li>\n",
    "            O menu ainda dá a opção de exibir os dados com diversos tipos de indicadores (tabela, flow map).\n",
    "        </li>\n",
    "    </ul>\n",
    " </div>"
   ]
  },
  {
   "cell_type": "code",
   "execution_count": 15,
   "id": "a1ac400b-77a4-48d1-a65a-2a3d346cffba",
   "metadata": {
    "scrolled": true
   },
   "outputs": [
    {
     "name": "stdout",
     "output_type": "stream",
     "text": [
      "[master d0111c7] Aula 15 (12:50)\n",
      " 3 files changed, 140 insertions(+), 26 deletions(-)\n",
      " create mode 100644 img/06-resource-latency.png\n"
     ]
    },
    {
     "name": "stderr",
     "output_type": "stream",
     "text": [
      "failed to send, dropping 1 traces to intake at unix:///var/run/datadog/apm.socket/v0.5/traces after 3 retries\n"
     ]
    },
    {
     "name": "stdout",
     "output_type": "stream",
     "text": [
      "Enumerating objects: 10, done.\n",
      "Counting objects: 100% (10/10), done.\n",
      "Delta compression using up to 24 threads\n",
      "Compressing objects: 100% (6/6), done.\n",
      "Writing objects: 100% (6/6), 138.63 KiB | 46.21 MiB/s, done.\n",
      "Total 6 (delta 4), reused 0 (delta 0), pack-reused 0\n",
      "remote: Resolving deltas: 100% (4/4), completed with 4 local objects.\u001b[K\n",
      "To https://github.com/felipesveiga/datadog.git\n",
      "   32a9f6f..d0111c7  master -> master\n"
     ]
    }
   ],
   "source": [
    "! git add .\n",
    "! git commit -am 'Aula 17'\n",
    "! git push"
   ]
  },
  {
   "cell_type": "markdown",
   "id": "0e4b87f3-73d8-43e7-adb0-ab0db5421ce8",
   "metadata": {
    "editable": true,
    "slideshow": {
     "slide_type": ""
    },
    "tags": []
   },
   "source": [
    "<p style='color:red'> Vi Aula 15 e 16; Aula 17; Seção 9"
   ]
  }
 ],
 "metadata": {
  "kernelspec": {
   "display_name": "Python 3 (ipykernel)",
   "language": "python",
   "name": "python3"
  },
  "language_info": {
   "codemirror_mode": {
    "name": "ipython",
    "version": 3
   },
   "file_extension": ".py",
   "mimetype": "text/x-python",
   "name": "python",
   "nbconvert_exporter": "python",
   "pygments_lexer": "ipython3",
   "version": "3.10.12"
  }
 },
 "nbformat": 4,
 "nbformat_minor": 5
}
