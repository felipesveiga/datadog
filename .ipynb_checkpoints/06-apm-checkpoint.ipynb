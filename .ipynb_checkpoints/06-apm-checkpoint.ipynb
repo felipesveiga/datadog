{
 "cells": [
  {
   "cell_type": "markdown",
   "id": "041159d3-3ed9-461d-8bfd-2685fbce36a9",
   "metadata": {},
   "source": [
    "<h1 style='font-size:40px'> Datadog APM: Download, Installation, Services, Traces and Error Tracking</h1>\n",
    "<div> \n",
    "    <ul style='font-size:20px'> \n",
    "        <li> \n",
    "            O Datadog APM é o serviço de monitoração de aplicações. Com ele, você conseguirá ter acesso a informações como logs e taxas de erro de seu software.\n",
    "        </li>\n",
    "    </ul>\n",
    " </div>"
   ]
  }
 ],
 "metadata": {
  "kernelspec": {
   "display_name": "Python 3 (ipykernel)",
   "language": "python",
   "name": "python3"
  },
  "language_info": {
   "codemirror_mode": {
    "name": "ipython",
    "version": 3
   },
   "file_extension": ".py",
   "mimetype": "text/x-python",
   "name": "python",
   "nbconvert_exporter": "python",
   "pygments_lexer": "ipython3",
   "version": "3.10.12"
  }
 },
 "nbformat": 4,
 "nbformat_minor": 5
}
