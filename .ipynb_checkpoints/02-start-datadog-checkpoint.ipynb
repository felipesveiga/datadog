{
 "cells": [
  {
   "cell_type": "markdown",
   "id": "c29dfd63-b1e0-44e3-bdbc-4c8ae9e5e8aa",
   "metadata": {},
   "source": [
    "<h1 style='font-size:40px'> Get started with Datadog: Registration, Pricing, and Agent installation</h1>"
   ]
  },
  {
   "cell_type": "markdown",
   "id": "c5e58765-73ff-488d-8f10-635f9d760c5a",
   "metadata": {
    "jp-MarkdownHeadingCollapsed": true
   },
   "source": [
    "<h2 style='font-size:30px'> What is Datadog and why do we need it?\n",
    "</h2>\n",
    "<div> \n",
    "    <ul style='font-size:20px'> \n",
    "        <li> \n",
    "            DataDog é uma das principais ferramentas de APM do mercado, tendo integração com vários serviços (AWS, MongoDB, SQL).\n",
    "        </li>\n",
    "        <li>\n",
    "            O envio dos dados de nossas aplicações pode ocorrer de três maneiras: com o DataDog Agent, DataDog API, ou integrações.\n",
    "        </li>\n",
    "        <li>\n",
    "            De maneira geral, o DataDog é capaz de coletar métricas, eventos, logs e traces de nossas aplicações.\n",
    "        </li>\n",
    "    </ul>\n",
    "</div>"
   ]
  },
  {
   "cell_type": "markdown",
   "id": "ab03bd9b-0939-4afc-abf0-88c48aa80e06",
   "metadata": {
    "jp-MarkdownHeadingCollapsed": true
   },
   "source": [
    "<h2 style='font-size:30px'> Basic Definitions - host, agent and tags\n",
    "</h2>\n",
    "<div> \n",
    "    <ul style='font-size:20px'> \n",
    "        <li> \n",
    "            O Datadog possui alguns conceitos fundamentais que são importantes dominarmos desde o início do curso:\n",
    "            <ul> \n",
    "                <li>\n",
    "                    <i> Host</i>: O servidor que o DataDog monitorará.\n",
    "                </li>\n",
    "                <li>\n",
    "                    <i> Agent</i>: O software do DataDog responsável por coletar as métricas necessárias do seu Host.\n",
    "                </li>\n",
    "                <li>\n",
    "                    <i> Tags</i>: Metadados adicionais que o usuário pode adicionar às suas telemetrias a fim de usá-los como filtros.\n",
    "                </li>\n",
    "            </ul>\n",
    "        </li>\n",
    "    </ul>\n",
    "</div>"
   ]
  },
  {
   "cell_type": "markdown",
   "id": "69984ae3-a7d0-41c3-bdcc-13d02ac264ae",
   "metadata": {
    "jp-MarkdownHeadingCollapsed": true
   },
   "source": [
    "<h2 style='font-size:30px'> Registration and Agent installation\n",
    "</h2>\n",
    "<div> \n",
    "    <ul style='font-size:20px'> \n",
    "        <li> \n",
    "            Aula em que nos cadastramos no site do Datadog e criamos um agente que vai monitorar nossa máquina.\n",
    "        </li>\n",
    "        <li>\n",
    "            Escolha o OS em que o agente vai ser deployado. O site mostrará os passos necessários.\n",
    "        </li>\n",
    "    </ul>\n",
    "</div>"
   ]
  },
  {
   "cell_type": "markdown",
   "id": "c486212b-d9e6-44f7-850a-5bece7745705",
   "metadata": {},
   "source": [
    "<figure>\n",
    "    <center style='font-size:20px;margin-top:20px'> \n",
    "            <img src='img/02_datadog_terminal.png'>\n",
    "        <figcaption style='font-size:15px'>\n",
    "            Comandos para gerenciar o agente na máquina.\n",
    "        </figcaption>\n",
    "    </center>\n",
    "</figure>"
   ]
  }
 ],
 "metadata": {
  "kernelspec": {
   "display_name": "Python 3 (ipykernel)",
   "language": "python",
   "name": "python3"
  },
  "language_info": {
   "codemirror_mode": {
    "name": "ipython",
    "version": 3
   },
   "file_extension": ".py",
   "mimetype": "text/x-python",
   "name": "python",
   "nbconvert_exporter": "python",
   "pygments_lexer": "ipython3",
   "version": "3.10.12"
  }
 },
 "nbformat": 4,
 "nbformat_minor": 5
}
