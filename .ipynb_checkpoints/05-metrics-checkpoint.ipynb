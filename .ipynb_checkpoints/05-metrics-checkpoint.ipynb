{
 "cells": [
  {
   "cell_type": "markdown",
   "id": "188f31e3-2798-4fbb-ab45-ec947f6706dc",
   "metadata": {},
   "source": [
    "<h1 style='font-size:40px'> Datadog Metrics: Explorer, Summary and Metric Types</h1>"
   ]
  },
  {
   "cell_type": "markdown",
   "id": "01047cb7-67cc-47a6-9548-e0cf875f977d",
   "metadata": {},
   "source": [
    "<h2 style='font-size:30px'> \n",
    "    Metrics Explorer</h2>\n",
    "<div> \n",
    "    <ul style='font-size:20px'> \n",
    "        <li> \n",
    "            O Metrics Explorer é um menu da aba \"Metrics\" em que podemos criar gráficos customizados sobre uma determinada métrica.\n",
    "        </li>\n",
    "        <li>\n",
    "            Conseguimos levar os gráficos gerados nesse menu para dashboards.\n",
    "        </li>\n",
    "    </ul>\n",
    " </div>"
   ]
  },
  {
   "cell_type": "markdown",
   "id": "d21e83f2-ade9-4118-bf3a-f12bb5c138ac",
   "metadata": {},
   "source": [
    "<figure>\n",
    "    <center style='font-size:20px;margin-top:20px'> \n",
    "           <img src='img/05_metrics_explorer.png'>\n",
    "        <figcaption style='font-size:15px'>\n",
    "            Menu do Cost Explorer.\n",
    "        </figcaption>\n",
    "    </center>\n",
    "</figure>"
   ]
  },
  {
   "cell_type": "markdown",
   "id": "8e377dbd-bd7d-4780-871f-0cc151d13bd8",
   "metadata": {},
   "source": [
    "<h2 style='font-size:30px'> \n",
    "    Metrics Summary and Metrics Types</h2>\n",
    "<div> \n",
    "    <ul style='font-size:20px'> \n",
    "        <li> \n",
    "            O Metrics Summary é um catálogo com todas as métricas coletadas pelo seu agente. Nele, você pode enxergar \n",
    "        </li>\n",
    "        <li>\n",
    "            Ao selecionar uma métrica, você consegue alterar a sua unidade de medida e o seu Metric Type.\n",
    "        </li>\n",
    "    </ul>\n",
    " </div>"
   ]
  },
  {
   "cell_type": "code",
   "execution_count": 2,
   "id": "5b9936d2-b4bb-4503-b663-f389c62a1230",
   "metadata": {
    "scrolled": true
   },
   "outputs": [
    {
     "name": "stdout",
     "output_type": "stream",
     "text": [
      "[master b40dff0] Aula 12\n",
      " 6 files changed, 252 insertions(+), 82 deletions(-)\n",
      " rename .ipynb_checkpoints/{04-host-infrastructure-checkpoint.ipynb => 04-host-infrastructure-Copy1-checkpoint.ipynb} (58%)\n",
      " create mode 100644 .ipynb_checkpoints/05-metrics-checkpoint.ipynb\n",
      " rename 04-host-infrastructure.ipynb => 04-host-infrastructure-Copy1.ipynb (58%)\n",
      " create mode 100644 05-metrics.ipynb\n",
      " create mode 100644 img/04_infrastructure_list.png\n",
      " create mode 100644 img/05_metrics_explorer.png\n",
      "Enumerating objects: 11, done.\n",
      "Counting objects: 100% (11/11), done.\n",
      "Delta compression using up to 24 threads\n",
      "Compressing objects: 100% (8/8), done.\n",
      "Writing objects: 100% (8/8), 102.57 KiB | 17.09 MiB/s, done.\n",
      "Total 8 (delta 3), reused 0 (delta 0), pack-reused 0\n",
      "remote: Resolving deltas: 100% (3/3), completed with 2 local objects.\u001b[K\n",
      "To https://github.com/felipesveiga/datadog.git\n",
      "   b8c2888..b40dff0  master -> master\n"
     ]
    }
   ],
   "source": [
    "! git add .\n",
    "! git commit -am 'Explicar as Metrics Types'\n",
    "! git push"
   ]
  },
  {
   "cell_type": "markdown",
   "id": "32143efe-5ce5-4a1c-bd10-98144c509b53",
   "metadata": {
    "editable": true,
    "slideshow": {
     "slide_type": ""
    },
    "tags": []
   },
   "source": [
    "<p style='color:red'> Iniciei  Aula 12; Explicar as Metrics Types; Entender parâmetro \"Interval\""
   ]
  }
 ],
 "metadata": {
  "kernelspec": {
   "display_name": "Python 3 (ipykernel)",
   "language": "python",
   "name": "python3"
  },
  "language_info": {
   "codemirror_mode": {
    "name": "ipython",
    "version": 3
   },
   "file_extension": ".py",
   "mimetype": "text/x-python",
   "name": "python",
   "nbconvert_exporter": "python",
   "pygments_lexer": "ipython3",
   "version": "3.10.12"
  }
 },
 "nbformat": 4,
 "nbformat_minor": 5
}
