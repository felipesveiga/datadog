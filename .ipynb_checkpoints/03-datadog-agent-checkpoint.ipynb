{
 "cells": [
  {
   "cell_type": "markdown",
   "id": "fefa1335-2294-452a-b162-3303cc8e7f3b",
   "metadata": {},
   "source": [
    "<h1 style='font-size:40px'> Datadog Agent: Definitions, Configuration and Integrations</h1>"
   ]
  },
  {
   "cell_type": "markdown",
   "id": "4bc8a0bd-d0be-4bf4-83f8-f729760b092b",
   "metadata": {
    "jp-MarkdownHeadingCollapsed": true
   },
   "source": [
    "<h2 style='font-size:30px'> Datadog Agent - definitions and configurations\n",
    "</h2>\n",
    "<div> \n",
    "    <ul style='font-size:20px'> \n",
    "        <li> \n",
    "            Um agente Datadog é um software responsável por coletar e encaminhar dados de seu host para o site do Datadog.\n",
    "        </li>\n",
    "    </ul>\n",
    "</div>"
   ]
  },
  {
   "cell_type": "code",
   "execution_count": 2,
   "id": "8af55148-9683-4689-a5b3-4bfd7100c715",
   "metadata": {
    "scrolled": true
   },
   "outputs": [
    {
     "name": "stdout",
     "output_type": "stream",
     "text": [
      "[master 30ab2d1] Aula 6\n",
      " 2 files changed, 98 insertions(+), 28 deletions(-)\n",
      "Enumerating objects: 7, done.\n",
      "Counting objects: 100% (7/7), done.\n",
      "Delta compression using up to 24 threads\n",
      "Compressing objects: 100% (4/4), done.\n",
      "Writing objects: 100% (4/4), 1.05 KiB | 1.05 MiB/s, done.\n",
      "Total 4 (delta 3), reused 0 (delta 0), pack-reused 0\n",
      "remote: Resolving deltas: 100% (3/3), completed with 3 local objects.\u001b[K\n",
      "To https://github.com/felipesveiga/datadog.git\n",
      "   2f31aa0..30ab2d1  master -> master\n"
     ]
    }
   ],
   "source": [
    "! git add .\n",
    "! git commit -am 'Aula 7 (1:40)'\n",
    "! git push"
   ]
  },
  {
   "cell_type": "markdown",
   "id": "dc1ff2e6-3e4a-49e0-8257-d459aee151ca",
   "metadata": {
    "editable": true,
    "slideshow": {
     "slide_type": ""
    },
    "tags": []
   },
   "source": [
    "<p style='color:red'> Vi Aula 6; Configurei agente do Datadog; Iniciei Aula 7; Aula 7 (1:40)"
   ]
  }
 ],
 "metadata": {
  "kernelspec": {
   "display_name": "Python 3 (ipykernel)",
   "language": "python",
   "name": "python3"
  },
  "language_info": {
   "codemirror_mode": {
    "name": "ipython",
    "version": 3
   },
   "file_extension": ".py",
   "mimetype": "text/x-python",
   "name": "python",
   "nbconvert_exporter": "python",
   "pygments_lexer": "ipython3",
   "version": "3.10.12"
  }
 },
 "nbformat": 4,
 "nbformat_minor": 5
}
