{
 "cells": [
  {
   "cell_type": "markdown",
   "id": "fefa1335-2294-452a-b162-3303cc8e7f3b",
   "metadata": {},
   "source": [
    "<h1 style='font-size:40px'> Datadog Agent: Definitions, Configuration and Integrations</h1>"
   ]
  },
  {
   "cell_type": "markdown",
   "id": "4bc8a0bd-d0be-4bf4-83f8-f729760b092b",
   "metadata": {
    "jp-MarkdownHeadingCollapsed": true
   },
   "source": [
    "<h2 style='font-size:30px'> Datadog Agent - definitions and configurations\n",
    "</h2>\n",
    "<div> \n",
    "    <ul style='font-size:20px'> \n",
    "        <li> \n",
    "            Um agente Datadog é um software responsável por coletar e encaminhar dados de seu host para o site do Datadog.\n",
    "        </li>\n",
    "        <li>\n",
    "            Seus principais componentes são:\n",
    "            <ul>\n",
    "                <li>\n",
    "                    <i>Collector</i>: Coleta os dados sobre o host.\n",
    "                </li>\n",
    "                <li>\n",
    "                    <i>Forwarder</i>: Envia os dados ao Datadog via HTTPS.\n",
    "                </li>\n",
    "            </ul>\n",
    "        </li>\n",
    "        <li>\n",
    "            O arquivo de configuração do Agente pode será `/etc/datadog-agent/datadog.yaml`. Já o das integrações em `/etc/datadog-agent/conf.d/`.\n",
    "        </li>\n",
    "    </ul>\n",
    "</div>"
   ]
  },
  {
   "cell_type": "markdown",
   "id": "c8eb40f3-0d83-4cd0-9b90-d5ddaae57c47",
   "metadata": {},
   "source": [
    "<figure>\n",
    "    <center style='font-size:20px;margin-top:20px'> \n",
    "            <img src='img/03_datadog_flow.png'>\n",
    "        <figcaption style='font-size:15px'>\n",
    "            Esquematização do envio de dados do Datadog.\n",
    "        </figcaption>\n",
    "    </center>\n",
    "</figure>"
   ]
  },
  {
   "cell_type": "markdown",
   "id": "65cdc7cd-ed52-4ee9-a791-71eb21327676",
   "metadata": {
    "jp-MarkdownHeadingCollapsed": true
   },
   "source": [
    "<h2 style='font-size:30px'> Datadog Agent - display host basic metrics and default host dashboards\n",
    "</h2>\n",
    "<div> \n",
    "    <ul style='font-size:20px'> \n",
    "        <li> \n",
    "            Apresentação do menu Resource Map. Você consegue acessá-lo clicando na seção \"Infrastructure\" do menu do Datadog.\n",
    "        </li>\n",
    "        <li>\n",
    "            Nele, conseguimos visualizar todos os hosts acessados pelo Datadog. Eles aparecem na forma de um hexágono.\n",
    "        </li>\n",
    "        <li>\n",
    "            Ao clicarmos em um dos hosts, conseguimos acessar dados sobre o agente deployado, assim como o host. Também podemos acrescentar tags.\n",
    "        </li>\n",
    "    </ul>\n",
    "</div>"
   ]
  },
  {
   "cell_type": "markdown",
   "id": "272fe97b-9edd-41f1-b98d-a09f8c898d32",
   "metadata": {},
   "source": [
    "<figure>\n",
    "    <center style='font-size:20px;margin-top:20px'> \n",
    "            <img src='img/03_resource_map.png'>\n",
    "        <figcaption style='font-size:15px'>\n",
    "            Menu \"Resource Map\".\n",
    "        </figcaption>\n",
    "    </center>\n",
    "</figure>"
   ]
  },
  {
   "cell_type": "markdown",
   "id": "9f0dce81-c597-4deb-8668-6e05ae017b64",
   "metadata": {},
   "source": [
    "<h3 style='font-size:30px;font-style:italic'> Dashboards</h3>\n",
    "<div> \n",
    "    <ul style='font-size:20px'> \n",
    "        <li>\n",
    "            Nessa seção, temos acesso aos dashboards criados por nosso agente sobre os hosts.\n",
    "        </li>\n",
    "        <li>\n",
    "            Os agentes criam 5 painéis default por host.\n",
    "        </li>\n",
    "    </ul>\n",
    "</div>"
   ]
  },
  {
   "cell_type": "markdown",
   "id": "63bacdc5-a00c-4a9e-85bf-a864ae9b05b5",
   "metadata": {
    "jp-MarkdownHeadingCollapsed": true
   },
   "source": [
    "<h2 style='font-size:30px'> Datadog Agent - integration with Internet Information Server (IIS)\n",
    "</h2>\n",
    "<div> \n",
    "    <ul style='font-size:20px'> \n",
    "        <li> \n",
    "            Aula em que o instrutor configura uma integração do seu agente com o Internet Information Server.\n",
    "        </li>\n",
    "        <li>\n",
    "            Vale lembrar que a maioria das integrações do Datadog já vem junto com o agente. Portanto, basta configurar os seus .yaml's para fazê-las funcionar.\n",
    "        </li>\n",
    "    </ul>\n",
    "</div>"
   ]
  }
 ],
 "metadata": {
  "kernelspec": {
   "display_name": "Python 3 (ipykernel)",
   "language": "python",
   "name": "python3"
  },
  "language_info": {
   "codemirror_mode": {
    "name": "ipython",
    "version": 3
   },
   "file_extension": ".py",
   "mimetype": "text/x-python",
   "name": "python",
   "nbconvert_exporter": "python",
   "pygments_lexer": "ipython3",
   "version": "3.10.12"
  }
 },
 "nbformat": 4,
 "nbformat_minor": 5
}
