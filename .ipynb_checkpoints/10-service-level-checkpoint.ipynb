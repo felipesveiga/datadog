{
 "cells": [
  {
   "cell_type": "markdown",
   "id": "d992ffa1-8f1a-469e-8a44-b2c13f0ec8b2",
   "metadata": {},
   "source": [
    "<h1 style='font-size:40px'> Datadog: SLA, SLO, SLI and Error Budget</h1>\n",
    "<div> \n",
    "    <ul style='font-size:20px'> \n",
    "        <li> \n",
    "        </li>\n",
    "    </ul>\n",
    " </div>"
   ]
  },
  {
   "cell_type": "code",
   "execution_count": 1,
   "id": "ea4c3834-cf2d-4276-b90c-49757d44d652",
   "metadata": {},
   "outputs": [
    {
     "name": "stdout",
     "output_type": "stream",
     "text": [
      "[master ae8eb90] Definir SLA, SLO, SLI, Error Budget; Aula 34\n",
      " 4 files changed, 218 insertions(+), 108 deletions(-)\n",
      " create mode 100644 .ipynb_checkpoints/10-service-level-checkpoint.ipynb\n",
      " create mode 100644 10-service-level.ipynb\n",
      "Enumerating objects: 8, done.\n",
      "Counting objects: 100% (8/8), done.\n",
      "Delta compression using up to 24 threads\n",
      "Compressing objects: 100% (5/5), done.\n",
      "Writing objects: 100% (5/5), 1.16 KiB | 1.16 MiB/s, done.\n",
      "Total 5 (delta 4), reused 0 (delta 0), pack-reused 0\n"
     ]
    },
    {
     "name": "stderr",
     "output_type": "stream",
     "text": [
      "failed to send, dropping 1 traces to intake at http://localhost:8126/v0.5/traces after 3 retries\n"
     ]
    },
    {
     "name": "stdout",
     "output_type": "stream",
     "text": [
      "remote: Resolving deltas: 100% (4/4), completed with 3 local objects.\u001b[K\n",
      "To https://github.com/felipesveiga/datadog.git\n",
      "   25b6a08..ae8eb90  master -> master\n"
     ]
    }
   ],
   "source": [
    "! git add .\n",
    "! git commit -am 'Entender diferença entre SLA e SLO'\n",
    "! git push"
   ]
  },
  {
   "cell_type": "markdown",
   "id": "41b50a82-c6c2-46dd-be65-dff1c30f4f63",
   "metadata": {
    "editable": true,
    "slideshow": {
     "slide_type": ""
    },
    "tags": []
   },
   "source": [
    "<p style='color:red'> Iniciei seção 10; Entender diferença entre SLA e SLO; Definir SLA, SLO, SLI, Error Budget; Aula 34"
   ]
  }
 ],
 "metadata": {
  "kernelspec": {
   "display_name": "Python 3 (ipykernel)",
   "language": "python",
   "name": "python3"
  },
  "language_info": {
   "codemirror_mode": {
    "name": "ipython",
    "version": 3
   },
   "file_extension": ".py",
   "mimetype": "text/x-python",
   "name": "python",
   "nbconvert_exporter": "python",
   "pygments_lexer": "ipython3",
   "version": "3.10.12"
  }
 },
 "nbformat": 4,
 "nbformat_minor": 5
}
