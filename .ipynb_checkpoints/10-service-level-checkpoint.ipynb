{
 "cells": [
  {
   "cell_type": "markdown",
   "id": "d992ffa1-8f1a-469e-8a44-b2c13f0ec8b2",
   "metadata": {},
   "source": [
    "<h1 style='font-size:40px'> \n",
    "    <a href='https://chronosphere.io/learn/know-the-sre-fundamentals-differences-between-sli-vs-slo-vs-sla/'>\n",
    "        Datadog: SLA, SLO, SLI and Error Budget\n",
    "    </a>    \n",
    "</h1>\n",
    "<div> \n",
    "    <ul style='font-size:20px'> \n",
    "        <li> \n",
    "            Ao se firmar um contrato, os fornecedores de uma empresa se comprometem a respeitar uma série de promessas aos seus clientes, sob pena de multas.\n",
    "        </li>\n",
    "        <li>\n",
    "            Com o intuito de organizarem o cumprimento dessas condições, esses fornecedores estabelecem uma série de metas internas, a serem acompanhadas pelas suas equipes.\n",
    "        </li>\n",
    "        <li>\n",
    "            Abaixo, vamos definir o significado de uma série de termos usados nesses planejamentos.\n",
    "        </li>\n",
    "    </ul>\n",
    " </div>"
   ]
  },
  {
   "cell_type": "markdown",
   "id": "ff1b84df-0d6f-4dc5-b87c-9148714726d5",
   "metadata": {},
   "source": [
    "<h4 style='font-size:30px;font-style:italic;text-decoration:underline'> Service Level Agreement (SLA)</h4>\n",
    "<div> \n",
    "    <ul style='font-size:20px'> \n",
    "        <li> \n",
    "            Um SLA é a meta de qualidade de serviço explicitamente mencionada no contrato do fornecedor com o cliente. O seu não cumprimento acarretará em penas.\n",
    "        </li>\n",
    "    </ul>\n",
    " </div>"
   ]
  },
  {
   "cell_type": "markdown",
   "id": "69add2e6-3106-43e3-bfd6-af45379f2e7c",
   "metadata": {
    "jp-MarkdownHeadingCollapsed": true
   },
   "source": [
    "<h4 style='font-size:30px;font-style:italic;text-decoration:underline'> Service Level Objective (SLO)</h4>\n",
    "<div> \n",
    "    <ul style='font-size:20px'> \n",
    "        <li> \n",
    "            Objetivo interno definido pelo provedor sobre alguma métrica presente no contrato. Normalmente, o threshold será ainda mais rígido a fim de garantir que as condições sejam cumpridas com ampla margem.\n",
    "        </li>\n",
    "    </ul>\n",
    " </div>"
   ]
  },
  {
   "cell_type": "markdown",
   "id": "845894d3-6145-4d70-beec-ffd6e6989b31",
   "metadata": {},
   "source": [
    "<h4 style='font-size:30px;font-style:italic;text-decoration:underline'> Error Budget</h4>\n",
    "<div> \n",
    "    <ul style='font-size:20px'> \n",
    "        <li> \n",
    "            Consiste na margem de falhas que o provedor está disposto a ter, sem quebrar o SLO ($1-\\text{SLO}$).\n",
    "        </li>\n",
    "    </ul>\n",
    " </div>"
   ]
  },
  {
   "cell_type": "markdown",
   "id": "f19075c9-8c73-4559-bab3-7c4401f9f2b0",
   "metadata": {},
   "source": [
    "<h4 style='font-size:30px;font-style:italic;text-decoration:underline'> Service Level Indicator (SLI)</h4>\n",
    "<div> \n",
    "    <ul style='font-size:20px'> \n",
    "        <li> \n",
    "            O SLI se refere à medição real da métrica a ser acompanhada pelo provedor do serviço. O ideal é que ela esteja sempre nos níveis definidos no contrato.\n",
    "        </li>\n",
    "    </ul>\n",
    " </div>"
   ]
  },
  {
   "cell_type": "markdown",
   "id": "c8f7ca6e-5df5-4110-8d2c-1e1f6ae7a690",
   "metadata": {},
   "source": [
    "<h2 style='font-size:30px'> \n",
    "    Datadog - SLO Creation, Date Correlation and Setup Alerts\n",
    "</h2>\n",
    "<div> \n",
    "    <ul style='font-size:20px'> \n",
    "        <li> \n",
    "            A aba de Monitors nos permite definir SLO's com base nas métricas capturadas pelo agente do Datadog.\n",
    "        </li>\n",
    "        <li>\n",
    "            Nele, conseguimos estabelecer os thresholds, assim como o período a ser considerado.\n",
    "        </li>\n",
    "        <li>\n",
    "            Ainda é possível estabeler alertas para quando os Error Budgets atingirem uma determinada porcentagem.\n",
    "        </li>\n",
    "    </ul>\n",
    " </div>"
   ]
  },
  {
   "cell_type": "markdown",
   "id": "c1f770f6-eb4e-4d0a-8370-0dec0cbca37b",
   "metadata": {},
   "source": [
    " <center style='margin-top:20px'> \n",
    "        <figure>\n",
    "            <img src='img/10-slo-table.png'>\n",
    "            <figcaption>\n",
    "                Relação de todos os SLO's definidos para a nossa aplicação.    \n",
    "            </figcaption>\n",
    "        </figure>\n",
    "    </center>"
   ]
  }
 ],
 "metadata": {
  "kernelspec": {
   "display_name": "Python 3 (ipykernel)",
   "language": "python",
   "name": "python3"
  },
  "language_info": {
   "codemirror_mode": {
    "name": "ipython",
    "version": 3
   },
   "file_extension": ".py",
   "mimetype": "text/x-python",
   "name": "python",
   "nbconvert_exporter": "python",
   "pygments_lexer": "ipython3",
   "version": "3.10.12"
  }
 },
 "nbformat": 4,
 "nbformat_minor": 5
}
