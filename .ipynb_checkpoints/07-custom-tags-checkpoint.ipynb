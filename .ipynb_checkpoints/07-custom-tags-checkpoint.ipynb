{
 "cells": [
  {
   "cell_type": "markdown",
   "id": "1b65ec15-d074-4f86-a461-35bffdf5684d",
   "metadata": {},
   "source": [
    "<h1 style='font-size:40px'> Datadog APM: Custom Tags, Exception Handling and Facets</h1>\n",
    "<div> \n",
    "    <ul style='font-size:20px'> \n",
    "        <li> \n",
    "            Caso necessite, você é capaz de configurar o seu agente para enviar tags customizadas ao DataDog.\n",
    "        </li>\n",
    "        <li>\n",
    "            No código da aplicação sendo monitorada, você pode instalar a SDK do Datadog correspondente à sua linguagem de programação.\n",
    "        </li>\n",
    "        <li>\n",
    "            Feito isso, importe a classe que representa o agente, e acrescente as tags que desejar! \n",
    "        </li>\n",
    "    </ul>\n",
    " </div>"
   ]
  },
  {
   "attachments": {},
   "cell_type": "markdown",
   "id": "0c1cbfc7-4bf6-4282-9b45-bfff0a4b0564",
   "metadata": {},
   "source": [
    " <center style='font-size:20px;margin-top:20px'> \n",
    "        <figure>\n",
    "            <img src='img/06_custom-tags-dot-net.png'>\n",
    "        <figcaption style='font-size:15px'>\n",
    "            Exemplo de código que implementa tags customizadas.\n",
    "        </figcaption>\n",
    "        </figure>\n",
    "    </center>"
   ]
  },
  {
   "cell_type": "markdown",
   "id": "d4de1623-2aa9-4acb-a148-1b2d072bb66d",
   "metadata": {},
   "source": [
    "<h2 style='font-size:30px'> \n",
    "    APM - Custom Tags, Search, Filter and Facet usage\n",
    "    \n",
    "</h2>\n",
    "<div> \n",
    "    <ul style='font-size:20px'> \n",
    "        <li> \n",
    "            No menu de Traces, podemos customizar as nossas tabelas com base nas tags customizadas enviadas pelo nosso agente.\n",
    "        </li>\n",
    "        <li>\n",
    "            Se quisermos, conseguimos criar uma coluna com os dados de uma tag específica, além de disponibilizar um filtro (ou facet), com o qual podemos selecionar linhas da tabela, com base nos valores da tag.\n",
    "        </li>\n",
    "    </ul>\n",
    " </div>"
   ]
  },
  {
   "attachments": {},
   "cell_type": "markdown",
   "id": "fbac5fc2-3f59-4a3f-9bc7-94c1bfe80389",
   "metadata": {},
   "source": [
    " <center style='font-size:20px;margin-top:20px'> \n",
    "        <figure>\n",
    "            <img src='img/07-custom-views-traces.png'>\n",
    "        <figcaption style='font-size:15px'>\n",
    "            Tabela de traces do menu APM.\n",
    "        </figcaption>\n",
    "        </figure>\n",
    "    </center>"
   ]
  }
 ],
 "metadata": {
  "kernelspec": {
   "display_name": "Python 3 (ipykernel)",
   "language": "python",
   "name": "python3"
  },
  "language_info": {
   "codemirror_mode": {
    "name": "ipython",
    "version": 3
   },
   "file_extension": ".py",
   "mimetype": "text/x-python",
   "name": "python",
   "nbconvert_exporter": "python",
   "pygments_lexer": "ipython3",
   "version": "3.10.12"
  }
 },
 "nbformat": 4,
 "nbformat_minor": 5
}
