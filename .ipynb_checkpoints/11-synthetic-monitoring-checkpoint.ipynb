{
 "cells": [
  {
   "cell_type": "markdown",
   "id": "3559891d-594c-451a-b784-5cb32a057434",
   "metadata": {},
   "source": [
    "<h1 style='font-size:40px'> \n",
    "   Synthetic Monitoring: API Tests and Browser Tests\n",
    "</h1>\n",
    "<div> \n",
    "    <ul style='font-size:20px'> \n",
    "        <li> \n",
    "            O Datadog possui recursos para realização de testes sintéticos em nossas aplicações.\n",
    "        </li>\n",
    "        <li>\n",
    "            Um teste sintético consiste em simular interações de usuários reais nas nossas aplicações, buscando avaliar a sua performance e disponibilidade.\n",
    "        </li>\n",
    "    </ul>\n",
    " </div>"
   ]
  },
  {
   "cell_type": "markdown",
   "id": "a0faaf2a-15fe-49fd-aeea-3290751a115c",
   "metadata": {},
   "source": [
    "<h2 style='font-size:30px'> \n",
    "    Create API Tests\n",
    "</h2>\n",
    "<div> \n",
    "    <ul style='font-size:20px'> \n",
    "        <li> \n",
    "            O Datadog permite criarmos uma série de condições nos nossos testes, assim como frequência e localização.\n",
    "        </li>\n",
    "        <li>\n",
    "            No mesmo formulário de criação de teste, conseguimos configurar monitors para notificações de falhas!\n",
    "        </li>\n",
    "    </ul>\n",
    " </div>"
   ]
  },
  {
   "cell_type": "markdown",
   "id": "bcdf77b6-b681-4dc7-9bd7-d0c2150bc9e4",
   "metadata": {},
   "source": [
    " <center style='margin-top:20px'> \n",
    "        <figure>\n",
    "            <img src='img/11-synthetic-table.png'>\n",
    "            <figcaption>\n",
    "                Relação de todos os testes criados para a nossa aplicação.    \n",
    "            </figcaption>\n",
    "        </figure>\n",
    "    </center>"
   ]
  },
  {
   "cell_type": "markdown",
   "id": "eb470554-09de-4e6f-b2d1-b8d86d475783",
   "metadata": {},
   "source": [
    "<h2 style='font-size:30px'> \n",
    "    Create Browser Tests\n",
    "</h2>\n",
    "<div> \n",
    "    <ul style='font-size:20px'> \n",
    "        <li> \n",
    "            O Datadog tem suporte a testes via browser. Neles, o desenvolvedor cria uma jornada a ser reproduzida pela automação, definindo os resultados esperados.\n",
    "        </li>\n",
    "        <li>\n",
    "            Para conseguir criar esses testes, você deverá instalar uma extensão do Datadog em seu navegador. Atualmente, há apenas suporte para testes com o Chrome.\n",
    "        </li>\n",
    "    </ul>\n",
    " </div>"
   ]
  }
 ],
 "metadata": {
  "kernelspec": {
   "display_name": "Python 3 (ipykernel)",
   "language": "python",
   "name": "python3"
  },
  "language_info": {
   "codemirror_mode": {
    "name": "ipython",
    "version": 3
   },
   "file_extension": ".py",
   "mimetype": "text/x-python",
   "name": "python",
   "nbconvert_exporter": "python",
   "pygments_lexer": "ipython3",
   "version": "3.10.12"
  }
 },
 "nbformat": 4,
 "nbformat_minor": 5
}
