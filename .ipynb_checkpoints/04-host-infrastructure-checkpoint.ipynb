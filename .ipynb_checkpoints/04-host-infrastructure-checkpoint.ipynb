{
 "cells": [
  {
   "cell_type": "markdown",
   "id": "188f31e3-2798-4fbb-ab45-ec947f6706dc",
   "metadata": {},
   "source": [
    "<h1 style='font-size:40px'> Datadog Infrastructure: Host maps and Infrastructure List</h1>"
   ]
  },
  {
   "cell_type": "markdown",
   "id": "3a7b88c0-2dc5-4805-a81e-399c8116910b",
   "metadata": {
    "jp-MarkdownHeadingCollapsed": true
   },
   "source": [
    "<h3 style='font-size:30px;font-style:italic'> Host Map</h3>\n",
    "<div> \n",
    "    <ul style='font-size:20px'> \n",
    "        <li> \n",
    "            O instrutor nos mostra que podemos criar visualizações customizadas de nosso Host Map, usando agrupamentos diferentes e outras métricas.\n",
    "        </li>\n",
    "        <li>\n",
    "            Caso queira mantê-las para consultas futuras, conseguimos salvá-las no site do Datadog!\n",
    "        </li>\n",
    "    </ul>\n",
    "</div>"
   ]
  },
  {
   "cell_type": "markdown",
   "id": "9171eddd-27da-4a5b-a944-3c34e06310bf",
   "metadata": {},
   "source": [
    "<h3 style='font-size:30px;font-style:italic'> Infrastructure List</h3>\n",
    "<div> \n",
    "    <ul style='font-size:20px'> \n",
    "        <li> \n",
    "        </li>\n",
    "    </ul>\n",
    "</div>"
   ]
  },
  {
   "cell_type": "code",
   "execution_count": 6,
   "id": "5b9936d2-b4bb-4503-b663-f389c62a1230",
   "metadata": {
    "scrolled": true
   },
   "outputs": [
    {
     "name": "stdout",
     "output_type": "stream",
     "text": [
      "[master 80e485f] Quiz 2\n",
      " 2 files changed, 56 insertions(+), 14 deletions(-)\n",
      "Enumerating objects: 7, done.\n",
      "Counting objects: 100% (7/7), done.\n",
      "Delta compression using up to 24 threads\n",
      "Compressing objects: 100% (4/4), done.\n",
      "Writing objects: 100% (4/4), 740 bytes | 740.00 KiB/s, done.\n",
      "Total 4 (delta 3), reused 0 (delta 0), pack-reused 0\n",
      "remote: Resolving deltas: 100% (3/3), completed with 3 local objects.\u001b[K\n",
      "To https://github.com/felipesveiga/datadog.git\n",
      "   ca77367..80e485f  master -> master\n"
     ]
    }
   ],
   "source": [
    "! git add .\n",
    "! git commit -am 'Aula 10 (3:35)'\n",
    "! git push"
   ]
  },
  {
   "cell_type": "markdown",
   "id": "32143efe-5ce5-4a1c-bd10-98144c509b53",
   "metadata": {
    "editable": true,
    "slideshow": {
     "slide_type": ""
    },
    "tags": []
   },
   "source": [
    "<p style='color:red'> Fiz Quiz 2; Adquiri Datadog Pro; Iniciei Aula 10; Aula 10 (3:35)"
   ]
  }
 ],
 "metadata": {
  "kernelspec": {
   "display_name": "Python 3 (ipykernel)",
   "language": "python",
   "name": "python3"
  },
  "language_info": {
   "codemirror_mode": {
    "name": "ipython",
    "version": 3
   },
   "file_extension": ".py",
   "mimetype": "text/x-python",
   "name": "python",
   "nbconvert_exporter": "python",
   "pygments_lexer": "ipython3",
   "version": "3.10.12"
  }
 },
 "nbformat": 4,
 "nbformat_minor": 5
}
