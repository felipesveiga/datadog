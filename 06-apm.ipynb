{
 "cells": [
  {
   "cell_type": "markdown",
   "id": "041159d3-3ed9-461d-8bfd-2685fbce36a9",
   "metadata": {},
   "source": [
    "<h1 style='font-size:40px'> Datadog APM: Download, Installation, Services, Traces and Error Tracking</h1>\n",
    "<div> \n",
    "    <ul style='font-size:20px'> \n",
    "        <li> \n",
    "            O Datadog APM é o serviço de monitoração de aplicações. Com ele, você conseguirá ter acesso a informações como logs e taxas de erro de seu software.\n",
    "        </li>\n",
    "    </ul>\n",
    " </div>"
   ]
  },
  {
   "cell_type": "markdown",
   "id": "937921c0-ced6-4289-b859-c5a70cfe739f",
   "metadata": {},
   "source": [
    "<h2 style='font-size:30px'> \n",
    "    APM - download, installation and basic configuration\n",
    "</h2>\n",
    "<div> \n",
    "    <ul style='font-size:20px'> \n",
    "        <li> \n",
    "            O funcionamento do APM precisa que você tenha tanto o seu agente, quanto o APM Tracer Client. Este último será o resposável por passar os dados ao agente, este o qual os enviará ao Datadog. \n",
    "        </li>\n",
    "        <li>\n",
    "            Além disso, você precisará definir algumas variáveis de ambiente em sua aplicação:\n",
    "            <ul> \n",
    "                <li>\n",
    "                    <i> DD_ENV</i>: Ambiente de deployment (dev, hom, prod).\n",
    "                </li>\n",
    "                <li>\n",
    "                    <i> DD_VERSION</i>: Versão da aplicação.\n",
    "                </li>\n",
    "            </ul>\n",
    "        </li>\n",
    "    </ul>\n",
    " </div>"
   ]
  },
  {
   "cell_type": "markdown",
   "id": "ee88e761-6849-40d3-9818-28aaa0006afe",
   "metadata": {},
   "source": [
    "<h2 style='font-size:30px'> \n",
    "    APM - Terminologias\n",
    "</h2>\n",
    "<div> \n",
    "    <ul style='font-size:20px'> \n",
    "        <li> \n",
    "            O Datadog APM possui algumas terminologias que são bastante importantes de serem entendidas.\n",
    "        </li>\n",
    "    </ul>\n",
    " </div>"
   ]
  },
  {
   "cell_type": "markdown",
   "id": "d65f902c-3a45-4a85-a7cd-509f6550e05e",
   "metadata": {},
   "source": [
    "<h3 style='font-size:30px;font-style:italic'> \n",
    "    Service\n",
    "</h3>\n",
    "<div> \n",
    "    <ul style='font-size:20px'> \n",
    "        <li>\n",
    "            Um service corresponde a uma aplicação qualquer sendo monitorada em sua empresa.\n",
    "        </li>\n",
    "    </ul>\n",
    "</div>"
   ]
  },
  {
   "cell_type": "markdown",
   "id": "14704ded-695e-4966-9b22-5dc363718df0",
   "metadata": {},
   "source": [
    "<h3 style='font-size:30px;font-style:italic'> \n",
    "    Resource\n",
    "</h3>\n",
    "<div> \n",
    "    <ul style='font-size:20px'> \n",
    "        <li>\n",
    "            Representa um domínio de um determinado service. Esse poderia ser um caminho em seu web site, ou um método HTTP numa rota específica de API (GET /funcionarios/{id}).\n",
    "        </li>\n",
    "    </ul>\n",
    "</div>"
   ]
  },
  {
   "cell_type": "code",
   "execution_count": 6,
   "id": "a1ac400b-77a4-48d1-a65a-2a3d346cffba",
   "metadata": {
    "scrolled": true
   },
   "outputs": [
    {
     "name": "stdout",
     "output_type": "stream",
     "text": [
      "[master 884fc6e] Aula 15\n",
      " 4 files changed, 178 insertions(+), 92 deletions(-)\n"
     ]
    },
    {
     "name": "stderr",
     "output_type": "stream",
     "text": [
      "failed to send, dropping 1 traces to intake at unix:///var/run/datadog/apm.socket/v0.5/traces after 3 retries\n"
     ]
    },
    {
     "name": "stdout",
     "output_type": "stream",
     "text": [
      "Enumerating objects: 8, done.\n",
      "Counting objects: 100% (8/8), done.\n",
      "Delta compression using up to 24 threads\n",
      "Compressing objects: 100% (5/5), done.\n",
      "Writing objects: 100% (5/5), 3.56 KiB | 3.56 MiB/s, done.\n",
      "Total 5 (delta 2), reused 0 (delta 0), pack-reused 0\n",
      "remote: Resolving deltas: 100% (2/2), completed with 2 local objects.\u001b[K\n",
      "To https://github.com/felipesveiga/datadog.git\n",
      "   0e93623..884fc6e  master -> master\n"
     ]
    }
   ],
   "source": [
    "! git add .\n",
    "! git commit -am 'Definir \"Trace\"'\n",
    "! git push"
   ]
  },
  {
   "cell_type": "markdown",
   "id": "0e4b87f3-73d8-43e7-adb0-ab0db5421ce8",
   "metadata": {
    "editable": true,
    "slideshow": {
     "slide_type": ""
    },
    "tags": []
   },
   "source": [
    "<p style='color:red'> Iniciei definição de terminologias APM; Definir \"Trace\"; Aula 15; Seção 9"
   ]
  }
 ],
 "metadata": {
  "kernelspec": {
   "display_name": "Python 3 (ipykernel)",
   "language": "python",
   "name": "python3"
  },
  "language_info": {
   "codemirror_mode": {
    "name": "ipython",
    "version": 3
   },
   "file_extension": ".py",
   "mimetype": "text/x-python",
   "name": "python",
   "nbconvert_exporter": "python",
   "pygments_lexer": "ipython3",
   "version": "3.10.12"
  }
 },
 "nbformat": 4,
 "nbformat_minor": 5
}
