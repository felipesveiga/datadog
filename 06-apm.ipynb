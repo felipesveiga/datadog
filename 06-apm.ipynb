{
 "cells": [
  {
   "cell_type": "markdown",
   "id": "041159d3-3ed9-461d-8bfd-2685fbce36a9",
   "metadata": {},
   "source": [
    "<h1 style='font-size:40px'> Datadog APM: Download, Installation, Services, Traces and Error Tracking</h1>\n",
    "<div> \n",
    "    <ul style='font-size:20px'> \n",
    "        <li> \n",
    "            O Datadog APM é o serviço de monitoração de aplicações. Com ele, você conseguirá ter acesso a informações como logs e taxas de erro de seu software.\n",
    "        </li>\n",
    "    </ul>\n",
    " </div>"
   ]
  },
  {
   "cell_type": "markdown",
   "id": "937921c0-ced6-4289-b859-c5a70cfe739f",
   "metadata": {},
   "source": [
    "<h2 style='font-size:30px'> \n",
    "    APM - download, installation and basic configuration\n",
    "</h2>\n",
    "<div> \n",
    "    <ul style='font-size:20px'> \n",
    "        <li> \n",
    "            O funcionamento do APM precisa que você tenha tanto o seu agente, quanto o APM Tracer Client. Este último será o resposável por passar os dados ao agente, este o qual os enviará ao Datadog. \n",
    "        </li>\n",
    "        <li>\n",
    "            Além disso, você precisará definir algumas variáveis de ambiente em sua aplicação:\n",
    "            <ul> \n",
    "                <li>\n",
    "                    <i> DD_ENV</i>: Ambiente de deployment (dev, hom, prod).\n",
    "                </li>\n",
    "                <li>\n",
    "                    <i> DD_VERSION</i>: Versão da aplicação.\n",
    "                </li>\n",
    "            </ul>\n",
    "        </li>\n",
    "    </ul>\n",
    " </div>"
   ]
  },
  {
   "cell_type": "code",
   "execution_count": 4,
   "id": "a1ac400b-77a4-48d1-a65a-2a3d346cffba",
   "metadata": {
    "scrolled": true
   },
   "outputs": [
    {
     "name": "stdout",
     "output_type": "stream",
     "text": [
      "[master 0e93623] Rever seção 6\n",
      " 4 files changed, 134 insertions(+), 52 deletions(-)\n",
      " create mode 100644 img/08-placeholder-filter.png\n",
      " create mode 100644 img/08-variable-template.png\n"
     ]
    },
    {
     "name": "stderr",
     "output_type": "stream",
     "text": [
      "failed to send, dropping 1 traces to intake at http://localhost:8126/v0.5/traces after 3 retries [1 skipped]\n"
     ]
    },
    {
     "name": "stdout",
     "output_type": "stream",
     "text": [
      "Enumerating objects: 11, done.\n",
      "Counting objects: 100% (11/11), done.\n",
      "Delta compression using up to 24 threads\n",
      "Compressing objects: 100% (7/7), done.\n",
      "Writing objects: 100% (7/7), 152.26 KiB | 19.03 MiB/s, done.\n",
      "Total 7 (delta 4), reused 0 (delta 0), pack-reused 0\n",
      "remote: Resolving deltas: 100% (4/4), completed with 4 local objects.\u001b[K\n",
      "To https://github.com/felipesveiga/datadog.git\n",
      "   d52c0ab..0e93623  master -> master\n"
     ]
    }
   ],
   "source": [
    "! git add .\n",
    "! git commit -am 'Aula 15'\n",
    "! git push"
   ]
  },
  {
   "cell_type": "markdown",
   "id": "0e4b87f3-73d8-43e7-adb0-ab0db5421ce8",
   "metadata": {
    "editable": true,
    "slideshow": {
     "slide_type": ""
    },
    "tags": []
   },
   "source": [
    "<p style='color:red'> Iniciei seção 6; Aula 15; Definir termos de APM do Datadog (Service, Resource...); Seção 9"
   ]
  }
 ],
 "metadata": {
  "kernelspec": {
   "display_name": "Python 3 (ipykernel)",
   "language": "python",
   "name": "python3"
  },
  "language_info": {
   "codemirror_mode": {
    "name": "ipython",
    "version": 3
   },
   "file_extension": ".py",
   "mimetype": "text/x-python",
   "name": "python",
   "nbconvert_exporter": "python",
   "pygments_lexer": "ipython3",
   "version": "3.10.12"
  }
 },
 "nbformat": 4,
 "nbformat_minor": 5
}
