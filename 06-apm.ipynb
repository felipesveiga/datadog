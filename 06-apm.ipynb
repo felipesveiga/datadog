{
 "cells": [
  {
   "cell_type": "markdown",
   "id": "041159d3-3ed9-461d-8bfd-2685fbce36a9",
   "metadata": {},
   "source": [
    "<h1 style='font-size:40px'> Datadog APM: Download, Installation, Services, Traces and Error Tracking</h1>\n",
    "<div> \n",
    "    <ul style='font-size:20px'> \n",
    "        <li> \n",
    "            O Datadog APM é o serviço de monitoração de aplicações. Com ele, você conseguirá ter acesso a informações como logs e taxas de erro de seu software.\n",
    "        </li>\n",
    "    </ul>\n",
    " </div>"
   ]
  },
  {
   "cell_type": "markdown",
   "id": "937921c0-ced6-4289-b859-c5a70cfe739f",
   "metadata": {},
   "source": [
    "<h2 style='font-size:30px'> \n",
    "    APM - download, installation and basic configuration\n",
    "</h2>\n",
    "<div> \n",
    "    <ul style='font-size:20px'> \n",
    "        <li> \n",
    "            O funcionamento do APM precisa que você tenha tanto o seu agente, quanto o APM Tracer Client. Este último será o resposável por passar os dados ao agente, este o qual os enviará ao Datadog. \n",
    "        </li>\n",
    "        <li>\n",
    "            Além disso, você precisará definir algumas variáveis de ambiente em sua aplicação:\n",
    "            <ul> \n",
    "                <li>\n",
    "                    <i> DD_ENV</i>: Ambiente de deployment (dev, hom, prod).\n",
    "                </li>\n",
    "                <li>\n",
    "                    <i> DD_VERSION</i>: Versão da aplicação.\n",
    "                </li>\n",
    "            </ul>\n",
    "        </li>\n",
    "    </ul>\n",
    " </div>"
   ]
  },
  {
   "cell_type": "markdown",
   "id": "ee88e761-6849-40d3-9818-28aaa0006afe",
   "metadata": {},
   "source": [
    "<h2 style='font-size:30px'> \n",
    "    APM - Terminologias\n",
    "</h2>\n",
    "<div> \n",
    "    <ul style='font-size:20px'> \n",
    "        <li> \n",
    "            O Datadog APM possui algumas terminologias que são bastante importantes de serem entendidas.\n",
    "        </li>\n",
    "    </ul>\n",
    " </div>"
   ]
  },
  {
   "cell_type": "markdown",
   "id": "d65f902c-3a45-4a85-a7cd-509f6550e05e",
   "metadata": {},
   "source": [
    "<h3 style='font-size:30px;font-style:italic'> \n",
    "    Service\n",
    "</h3>\n",
    "<div> \n",
    "    <ul style='font-size:20px'> \n",
    "        <li>\n",
    "            Um service corresponde a uma aplicação qualquer sendo monitorada em sua empresa.\n",
    "        </li>\n",
    "    </ul>\n",
    "</div>"
   ]
  },
  {
   "cell_type": "markdown",
   "id": "14704ded-695e-4966-9b22-5dc363718df0",
   "metadata": {},
   "source": [
    "<h3 style='font-size:30px;font-style:italic'> \n",
    "    Resource\n",
    "</h3>\n",
    "<div> \n",
    "    <ul style='font-size:20px'> \n",
    "        <li>\n",
    "            Representa um domínio de um determinado service. Esse poderia ser um caminho em seu web site, ou um método HTTP numa rota específica de API (GET /funcionarios/{id}).\n",
    "        </li>\n",
    "    </ul>\n",
    "</div>"
   ]
  },
  {
   "cell_type": "markdown",
   "id": "67cef382-5687-4f79-9b83-15e7ed99d76d",
   "metadata": {},
   "source": [
    "<h3 style='font-size:30px;font-style:italic'> \n",
    "    Trace\n",
    "</h3>\n",
    "<div> \n",
    "    <ul style='font-size:20px'> \n",
    "        <li>\n",
    "            Representa uma transação realizada em seu serviço. Podemos entendê-la como uma instância de um resource qualquer também. \n",
    "        </li>\n",
    "    </ul>\n",
    "</div>"
   ]
  },
  {
   "cell_type": "markdown",
   "id": "a40fffbd-8b18-42c0-b1f8-fac05e3b30eb",
   "metadata": {},
   "source": [
    "<h2 style='font-size:30px'> \n",
    "    APM Services and Service Map\n",
    "</h2>\n",
    "<div> \n",
    "    <ul style='font-size:20px'> \n",
    "        <li> \n",
    "            O menu de APM tem uma seção inteiramente dedicada às estatísticas gerais dos nossos serviços.\n",
    "        </li>\n",
    "        <li>\n",
    "            Ela trará uma tabela com informações como número de requisições e percentis. Podemos alterar as suas colunas, caso quisermos. Ainda podemos salvar as configurações da tabela como uma view, para termos diferentes visualizações de nossos dados à nossa disposição.\n",
    "        </li>\n",
    "    </ul>\n",
    " </div>"
   ]
  },
  {
   "attachments": {},
   "cell_type": "markdown",
   "id": "24fc5802-22c0-487b-bb89-685035afa405",
   "metadata": {},
   "source": [
    " <center style='font-size:20px;margin-top:20px'> \n",
    "        <figure>\n",
    "            <img src='img/06-service-table.png'>\n",
    "        <figcaption style='font-size:15px'>\n",
    "            Tabela com os dados de serviços.\n",
    "        </figcaption>\n",
    "        </figure>\n",
    "    </center>"
   ]
  },
  {
   "cell_type": "code",
   "execution_count": 13,
   "id": "a1ac400b-77a4-48d1-a65a-2a3d346cffba",
   "metadata": {
    "scrolled": true
   },
   "outputs": [
    {
     "name": "stdout",
     "output_type": "stream",
     "text": [
      "[master 886af9c] Definir \"Trace\"\n",
      " 2 files changed, 128 insertions(+), 30 deletions(-)\n",
      "Enumerating objects: 7, done.\n",
      "Counting objects: 100% (7/7), done.\n",
      "Delta compression using up to 24 threads\n",
      "Compressing objects: 100% (4/4), done.\n",
      "Writing objects: 100% (4/4), 1.07 KiB | 1.07 MiB/s, done.\n",
      "Total 4 (delta 3), reused 0 (delta 0), pack-reused 0\n"
     ]
    },
    {
     "name": "stderr",
     "output_type": "stream",
     "text": [
      "failed to send, dropping 1 traces to intake at unix:///var/run/datadog/apm.socket/v0.5/traces after 3 retries\n"
     ]
    },
    {
     "name": "stdout",
     "output_type": "stream",
     "text": [
      "remote: Resolving deltas: 100% (3/3), completed with 3 local objects.\u001b[K\n",
      "To https://github.com/felipesveiga/datadog.git\n",
      "   884fc6e..886af9c  master -> master\n"
     ]
    }
   ],
   "source": [
    "! git add .\n",
    "! git commit -am 'Aula 15 (4:50)'\n",
    "! git push"
   ]
  },
  {
   "cell_type": "markdown",
   "id": "0e4b87f3-73d8-43e7-adb0-ab0db5421ce8",
   "metadata": {
    "editable": true,
    "slideshow": {
     "slide_type": ""
    },
    "tags": []
   },
   "source": [
    "<p style='color:red'> Defini \"Trace\"; Iniciei Aula 15; Aula 15 (4:50); Seção 9"
   ]
  }
 ],
 "metadata": {
  "kernelspec": {
   "display_name": "Python 3 (ipykernel)",
   "language": "python",
   "name": "python3"
  },
  "language_info": {
   "codemirror_mode": {
    "name": "ipython",
    "version": 3
   },
   "file_extension": ".py",
   "mimetype": "text/x-python",
   "name": "python",
   "nbconvert_exporter": "python",
   "pygments_lexer": "ipython3",
   "version": "3.10.12"
  }
 },
 "nbformat": 4,
 "nbformat_minor": 5
}
