{
 "cells": [
  {
   "cell_type": "markdown",
   "id": "188f31e3-2798-4fbb-ab45-ec947f6706dc",
   "metadata": {},
   "source": [
    "<h1 style='font-size:40px'> Datadog Infrastructure: Host maps and Infrastructure List</h1>"
   ]
  },
  {
   "cell_type": "markdown",
   "id": "3a7b88c0-2dc5-4805-a81e-399c8116910b",
   "metadata": {
    "jp-MarkdownHeadingCollapsed": true
   },
   "source": [
    "<h3 style='font-size:30px;font-style:italic'> Host Map</h3>\n",
    "<div> \n",
    "    <ul style='font-size:20px'> \n",
    "        <li> \n",
    "            O instrutor nos mostra que podemos criar visualizações customizadas de nosso Host Map, usando agrupamentos diferentes e outras métricas.\n",
    "        </li>\n",
    "        <li>\n",
    "            Caso queira mantê-las para consultas futuras, conseguimos salvá-las no site do Datadog!\n",
    "        </li>\n",
    "    </ul>\n",
    "</div>"
   ]
  },
  {
   "cell_type": "markdown",
   "id": "9171eddd-27da-4a5b-a944-3c34e06310bf",
   "metadata": {},
   "source": [
    "<h3 style='font-size:30px;font-style:italic'> Infrastructure List</h3>\n",
    "<div> \n",
    "    <ul style='font-size:20px'> \n",
    "        <li> \n",
    "            Infrastructure List é uma visualização dos mesmos dados que o Host Map, só que no formato de tabela.\n",
    "        </li>\n",
    "    </ul>\n",
    "</div>"
   ]
  },
  {
   "cell_type": "markdown",
   "id": "d3945cf5-91ff-42d1-ad7f-d5d9bfbf92e5",
   "metadata": {},
   "source": [
    "<figure>\n",
    "    <center style='font-size:20px;margin-top:20px'> \n",
    "            <img src='img/04_infrastructure_list.png'>\n",
    "        <figcaption style='font-size:15px'>\n",
    "            Exemplo de uma Infrastructure List.\n",
    "        </figcaption>\n",
    "    </center>\n",
    "</figure>"
   ]
  }
 ],
 "metadata": {
  "kernelspec": {
   "display_name": "Python 3 (ipykernel)",
   "language": "python",
   "name": "python3"
  },
  "language_info": {
   "codemirror_mode": {
    "name": "ipython",
    "version": 3
   },
   "file_extension": ".py",
   "mimetype": "text/x-python",
   "name": "python",
   "nbconvert_exporter": "python",
   "pygments_lexer": "ipython3",
   "version": "3.10.12"
  }
 },
 "nbformat": 4,
 "nbformat_minor": 5
}
