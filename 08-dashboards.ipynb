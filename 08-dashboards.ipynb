{
 "cells": [
  {
   "cell_type": "markdown",
   "id": "8bb261bc-6d7a-41c5-acb2-2df5c2e418d1",
   "metadata": {},
   "source": [
    "<h1 style='font-size:40px'> Datadog Dashboards: Create (with Graphs), Import, Export and Variable Usages</h1>"
   ]
  },
  {
   "cell_type": "markdown",
   "id": "90ba5775-1a47-495a-b391-703217df725f",
   "metadata": {},
   "source": [
    "<h2 style='font-size:30px'> \n",
    "    Dashboard - Create a New Dashboard with many Widgets\n",
    "    \n",
    "</h2>\n",
    "<div> \n",
    "    <ul style='font-size:20px'> \n",
    "        <li> \n",
    "            Aula em que aprendemos a criar dashboards com base nas métricas coletadas pelo Datadog.\n",
    "        </li>\n",
    "        <li>\n",
    "            Uma coisa que me chamou atenção é que podemos criar pastas de gráficos em nosso dashboard, agrupando visualizações sobre um tema em comum.\n",
    "        </li>\n",
    "    </ul>\n",
    " </div>"
   ]
  },
  {
   "attachments": {},
   "cell_type": "markdown",
   "id": "e2e6222c-657a-40fa-8298-a03ecc420d25",
   "metadata": {},
   "source": [
    " <center style='font-size:20px;margin-top:20px'> \n",
    "        <figure>\n",
    "            <img src='img/08-dashboard-group.png'>\n",
    "        <figcaption style='font-size:15px'>\n",
    "        </figcaption>\n",
    "        </figure>\n",
    "    </center>"
   ]
  },
  {
   "cell_type": "markdown",
   "id": "546c08b4-e9bb-491b-98b1-bf4526aa1f5c",
   "metadata": {},
   "source": [
    "<h2 style='font-size:30px'> \n",
    "    Dashboard - Import widgets/graphs into Dashboard from Services and Metrics Page\n",
    "    \n",
    "</h2>\n",
    "<div> \n",
    "    <ul style='font-size:20px'> \n",
    "        <li> \n",
    "            Um recurso muito interessante do Datadog é que podemos exportar gráficos prontos de menus como o de \"APM\" ou \"Infrastructure\" diretamente a um dashboard.\n",
    "        </li>\n",
    "        <li>\n",
    "            No Metrics Explorer, onde podemos criar um gráfico avulso, podemos exportar esse diretamente a um dashboard também!\n",
    "        </li>\n",
    "    </ul>\n",
    " </div>"
   ]
  },
  {
   "attachments": {},
   "cell_type": "markdown",
   "id": "de208ee1-feec-45ca-b7a1-52e5abd20e2b",
   "metadata": {},
   "source": [
    " <center style='font-size:20px;margin-top:20px'> \n",
    "        <figure>\n",
    "            <img src='img/08-dashboard-export.png'>\n",
    "        <figcaption style='font-size:15px'>\n",
    "            Opção de exportação de um gráfico para um dashboard.\n",
    "        </figcaption>\n",
    "        </figure>\n",
    "    </center>"
   ]
  },
  {
   "cell_type": "markdown",
   "id": "c689f6a4-f856-4dfc-a898-ef9972dd914a",
   "metadata": {},
   "source": [
    "<h2 style='font-size:30px'> \n",
    "    Dashboard - Import and Export as JSON\n",
    "</h2>\n",
    "<div> \n",
    "    <ul style='font-size:20px'> \n",
    "        <li> \n",
    "            O Datadog armazena os metadados de seus dashboards como um JSON. Esse contém informações como título, tipos de gráficos e métricas utilizadas. \n",
    "        </li>\n",
    "        <li>\n",
    "            Você pode baixá-lo em seu computador, a fim de manter uma imagem das configurações do painel num determinado momento. \n",
    "        </li>\n",
    "        <li>\n",
    "            Ao fazer o upload desse arquivo, o Datadog fabricará um painel com as mesmas configurações especificadas!\n",
    "        </li>\n",
    "    </ul>\n",
    " </div>"
   ]
  },
  {
   "cell_type": "markdown",
   "id": "a8b7ffcd-5657-4de1-8c4e-80577ba14f2a",
   "metadata": {},
   "source": [
    "<h2 style='font-size:30px'> \n",
    "    Dashboard - Variables usage\n",
    "</h2>\n",
    "<div> \n",
    "    <ul style='font-size:20px'> \n",
    "        <li> \n",
    "            Em ambientes complexos, podemos ter agentes resgatando métricas de múltiplas aplicações simultaneamente.\n",
    "        </li>\n",
    "        <li>\n",
    "            Considerando isso, podemos criar filtros em nossos dashboards, para que consigamos filtrar as informações para um único serviço.\n",
    "        </li>\n",
    "        <li>\n",
    "            Para que os gráficos se alterem de acordo com os valores escolhidos, você deverá definir o filtro como o atributo \"from\" dos gráficos.\n",
    "        </li>\n",
    "    </ul>\n",
    " </div>"
   ]
  },
  {
   "attachments": {},
   "cell_type": "markdown",
   "id": "de1ab5c2-1840-4b22-9547-88b725676115",
   "metadata": {},
   "source": [
    " <center style='font-size:20px;margin-top:20px'> \n",
    "        <figure>\n",
    "            <img src='img/08-variable-template.png'>\n",
    "        <figcaption style='font-size:15px'>\n",
    "            Para acrescentar um filtro, clique em \"Add Template Variables\" em seu dashboard.\n",
    "        </figcaption>\n",
    "        </figure>\n",
    "    </center>"
   ]
  },
  {
   "attachments": {},
   "cell_type": "markdown",
   "id": "c3b43695-c95b-44c3-af59-298999837f82",
   "metadata": {},
   "source": [
    " <center style='font-size:20px;margin-top:20px'> \n",
    "        <figure>\n",
    "            <img src='img/08-placeholder-filter.png'>\n",
    "        <figcaption style='font-size:15px'>\n",
    "            Definindo o valor do filtro como critério de apresentação dos dados do gráfico.\n",
    "        </figcaption>\n",
    "        </figure>\n",
    "    </center>"
   ]
  }
 ],
 "metadata": {
  "kernelspec": {
   "display_name": "Python 3 (ipykernel)",
   "language": "python",
   "name": "python3"
  },
  "language_info": {
   "codemirror_mode": {
    "name": "ipython",
    "version": 3
   },
   "file_extension": ".py",
   "mimetype": "text/x-python",
   "name": "python",
   "nbconvert_exporter": "python",
   "pygments_lexer": "ipython3",
   "version": "3.10.12"
  }
 },
 "nbformat": 4,
 "nbformat_minor": 5
}
