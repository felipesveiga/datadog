{
 "cells": [
  {
   "cell_type": "markdown",
   "id": "8bb261bc-6d7a-41c5-acb2-2df5c2e418d1",
   "metadata": {},
   "source": [
    "<h1 style='font-size:40px'> Datadog Dashboards: Create (with Graphs), Import, Export and Variable Usages</h1>"
   ]
  },
  {
   "cell_type": "markdown",
   "id": "90ba5775-1a47-495a-b391-703217df725f",
   "metadata": {},
   "source": [
    "<h2 style='font-size:30px'> \n",
    "    Dashboard - Create a New Dashboard with many Widgets\n",
    "    \n",
    "</h2>\n",
    "<div> \n",
    "    <ul style='font-size:20px'> \n",
    "        <li> \n",
    "            Aula em que aprendemos a criar dashboards com base nas métricas coletadas pelo Datadog.\n",
    "        </li>\n",
    "        <li>\n",
    "            Uma coisa que me chamou atenção é que podemos criar pastas de gráficos em nosso dashboard, agrupando visualizações sobre um tema em comum.\n",
    "        </li>\n",
    "    </ul>\n",
    " </div>"
   ]
  },
  {
   "attachments": {},
   "cell_type": "markdown",
   "id": "e2e6222c-657a-40fa-8298-a03ecc420d25",
   "metadata": {},
   "source": [
    " <center style='font-size:20px;margin-top:20px'> \n",
    "        <figure>\n",
    "            <img src='img/08-dashboard-group.png'>\n",
    "        <figcaption style='font-size:15px'>\n",
    "        </figcaption>\n",
    "        </figure>\n",
    "    </center>"
   ]
  },
  {
   "cell_type": "code",
   "execution_count": 1,
   "id": "cc60cddb-edcb-4787-9ea5-f11b7fff7b4b",
   "metadata": {
    "scrolled": true
   },
   "outputs": [
    {
     "name": "stdout",
     "output_type": "stream",
     "text": [
      "[master 98d83ad] Fazer anotações Aula 20\n",
      " 4 files changed, 98 insertions(+), 218 deletions(-)\n",
      " rewrite .ipynb_checkpoints/06-apm-checkpoint.ipynb (61%)\n",
      " copy .ipynb_checkpoints/{06-apm-checkpoint.ipynb => 07-custom-tags-checkpoint.ipynb} (72%)\n",
      " rewrite 06-apm.ipynb (61%)\n",
      " copy 06-apm.ipynb => 07-custom-tags.ipynb (72%)\n"
     ]
    },
    {
     "name": "stderr",
     "output_type": "stream",
     "text": [
      "failed to send, dropping 1 traces to intake at http://localhost:8126/v0.5/traces after 3 retries\n"
     ]
    },
    {
     "name": "stdout",
     "output_type": "stream",
     "text": [
      "Enumerating objects: 8, done.\n",
      "Counting objects: 100% (8/8), done.\n",
      "Delta compression using up to 24 threads\n",
      "Compressing objects: 100% (5/5), done.\n",
      "Writing objects: 100% (5/5), 766 bytes | 766.00 KiB/s, done.\n",
      "Total 5 (delta 4), reused 0 (delta 0), pack-reused 0\n",
      "remote: Resolving deltas: 100% (4/4), completed with 3 local objects.\u001b[K\n",
      "To https://github.com/felipesveiga/datadog.git\n",
      "   9ed7b1d..98d83ad  master -> master\n"
     ]
    }
   ],
   "source": [
    "! git add .\n",
    "! git commit -am 'Aula 24'\n",
    "! git push"
   ]
  },
  {
   "cell_type": "markdown",
   "id": "fdec9f50-a90b-46f2-851c-7e2b01ca8954",
   "metadata": {
    "editable": true,
    "slideshow": {
     "slide_type": ""
    },
    "tags": []
   },
   "source": [
    "<p style='color:red'> Vi Aula 20 a 23; Aula 24"
   ]
  }
 ],
 "metadata": {
  "kernelspec": {
   "display_name": "Python 3 (ipykernel)",
   "language": "python",
   "name": "python3"
  },
  "language_info": {
   "codemirror_mode": {
    "name": "ipython",
    "version": 3
   },
   "file_extension": ".py",
   "mimetype": "text/x-python",
   "name": "python",
   "nbconvert_exporter": "python",
   "pygments_lexer": "ipython3",
   "version": "3.10.12"
  }
 },
 "nbformat": 4,
 "nbformat_minor": 5
}
