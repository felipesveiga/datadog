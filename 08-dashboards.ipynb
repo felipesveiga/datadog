{
 "cells": [
  {
   "cell_type": "markdown",
   "id": "8bb261bc-6d7a-41c5-acb2-2df5c2e418d1",
   "metadata": {},
   "source": [
    "<h1 style='font-size:40px'> Datadog Dashboards: Create (with Graphs), Import, Export and Variable Usages</h1>"
   ]
  },
  {
   "cell_type": "markdown",
   "id": "90ba5775-1a47-495a-b391-703217df725f",
   "metadata": {},
   "source": [
    "<h2 style='font-size:30px'> \n",
    "    Dashboard - Create a New Dashboard with many Widgets\n",
    "    \n",
    "</h2>\n",
    "<div> \n",
    "    <ul style='font-size:20px'> \n",
    "        <li> \n",
    "            Aula em que aprendemos a criar dashboards com base nas métricas coletadas pelo Datadog.\n",
    "        </li>\n",
    "        <li>\n",
    "            Uma coisa que me chamou atenção é que podemos criar pastas de gráficos em nosso dashboard, agrupando visualizações sobre um tema em comum.\n",
    "        </li>\n",
    "    </ul>\n",
    " </div>"
   ]
  },
  {
   "attachments": {},
   "cell_type": "markdown",
   "id": "e2e6222c-657a-40fa-8298-a03ecc420d25",
   "metadata": {},
   "source": [
    " <center style='font-size:20px;margin-top:20px'> \n",
    "        <figure>\n",
    "            <img src='img/08-dashboard-group.png'>\n",
    "        <figcaption style='font-size:15px'>\n",
    "        </figcaption>\n",
    "        </figure>\n",
    "    </center>"
   ]
  },
  {
   "cell_type": "markdown",
   "id": "546c08b4-e9bb-491b-98b1-bf4526aa1f5c",
   "metadata": {},
   "source": [
    "<h2 style='font-size:30px'> \n",
    "    Dashboard - Import widgets/graphs into Dashboard from Services and Metrics Page\n",
    "    \n",
    "</h2>\n",
    "<div> \n",
    "    <ul style='font-size:20px'> \n",
    "        <li> \n",
    "            Um recurso muito interessante do Datadog é que podemos exportar gráficos prontos de menus como o de \"APM\" ou \"Infrastructure\" diretamente a um dashboard.\n",
    "        </li>\n",
    "        <li>\n",
    "            No Metrics Explorer, onde podemos criar um gráfico avulso, podemos exportar esse diretamente a um dashboard também!\n",
    "        </li>\n",
    "    </ul>\n",
    " </div>"
   ]
  },
  {
   "attachments": {},
   "cell_type": "markdown",
   "id": "de208ee1-feec-45ca-b7a1-52e5abd20e2b",
   "metadata": {},
   "source": [
    " <center style='font-size:20px;margin-top:20px'> \n",
    "        <figure>\n",
    "            <img src='img/08-dashboard-export.png'>\n",
    "        <figcaption style='font-size:15px'>\n",
    "            Opção de exportação de um gráfico para um dashboard.\n",
    "        </figcaption>\n",
    "        </figure>\n",
    "    </center>"
   ]
  },
  {
   "cell_type": "markdown",
   "id": "c689f6a4-f856-4dfc-a898-ef9972dd914a",
   "metadata": {},
   "source": [
    "<h2 style='font-size:30px'> \n",
    "    Dashboard - Import and Export as JSON\n",
    "</h2>\n",
    "<div> \n",
    "    <ul style='font-size:20px'> \n",
    "        <li> \n",
    "            O Datadog armazena os metadados de seus dashboards como um JSON. Esse contém informações como título, tipos de gráficos e métricas utilizadas. \n",
    "        </li>\n",
    "        <li>\n",
    "            Você pode baixá-lo em seu computador, a fim de manter uma imagem das configurações do painel num determinado momento. \n",
    "        </li>\n",
    "        <li>\n",
    "            Ao fazer o upload desse arquivo, o Datadog fabricará um painel com as mesmas configurações especificadas!\n",
    "        </li>\n",
    "    </ul>\n",
    " </div>"
   ]
  },
  {
   "cell_type": "code",
   "execution_count": 2,
   "id": "cc60cddb-edcb-4787-9ea5-f11b7fff7b4b",
   "metadata": {
    "scrolled": true
   },
   "outputs": [
    {
     "name": "stdout",
     "output_type": "stream",
     "text": [
      "[master d665bc7] Rever seção 6 ao final da 8\n",
      " 3 files changed, 156 insertions(+), 30 deletions(-)\n",
      " create mode 100644 img/08-dashboard-export.png\n"
     ]
    },
    {
     "name": "stderr",
     "output_type": "stream",
     "text": [
      "failed to send, dropping 1 traces to intake at http://localhost:8126/v0.5/traces after 3 retries\n"
     ]
    },
    {
     "name": "stdout",
     "output_type": "stream",
     "text": [
      "Enumerating objects: 10, done.\n",
      "Counting objects: 100% (10/10), done.\n",
      "Delta compression using up to 24 threads\n",
      "Compressing objects: 100% (6/6), done.\n",
      "Writing objects: 100% (6/6), 104.76 KiB | 17.46 MiB/s, done.\n",
      "Total 6 (delta 4), reused 0 (delta 0), pack-reused 0\n",
      "remote: Resolving deltas: 100% (4/4), completed with 4 local objects.\u001b[K\n",
      "To https://github.com/felipesveiga/datadog.git\n",
      "   97b6c88..d665bc7  master -> master\n"
     ]
    }
   ],
   "source": [
    "! git add .\n",
    "! git commit -am 'Aula 26'\n",
    "! git push"
   ]
  },
  {
   "cell_type": "markdown",
   "id": "fdec9f50-a90b-46f2-851c-7e2b01ca8954",
   "metadata": {
    "editable": true,
    "slideshow": {
     "slide_type": ""
    },
    "tags": []
   },
   "source": [
    "<p style='color:red'> Vi Aula 24 a 25; Aula 26; Rever seção 6 ao final da 8"
   ]
  }
 ],
 "metadata": {
  "kernelspec": {
   "display_name": "Python 3 (ipykernel)",
   "language": "python",
   "name": "python3"
  },
  "language_info": {
   "codemirror_mode": {
    "name": "ipython",
    "version": 3
   },
   "file_extension": ".py",
   "mimetype": "text/x-python",
   "name": "python",
   "nbconvert_exporter": "python",
   "pygments_lexer": "ipython3",
   "version": "3.10.12"
  }
 },
 "nbformat": 4,
 "nbformat_minor": 5
}
