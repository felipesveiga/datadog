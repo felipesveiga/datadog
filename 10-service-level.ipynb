{
 "cells": [
  {
   "cell_type": "markdown",
   "id": "d992ffa1-8f1a-469e-8a44-b2c13f0ec8b2",
   "metadata": {},
   "source": [
    "<h1 style='font-size:40px'> \n",
    "    <a href='https://chronosphere.io/learn/know-the-sre-fundamentals-differences-between-sli-vs-slo-vs-sla/'>\n",
    "        Datadog: SLA, SLO, SLI and Error Budget\n",
    "    </a>    \n",
    "</h1>\n",
    "<div> \n",
    "    <ul style='font-size:20px'> \n",
    "        <li> \n",
    "            Ao se firmar um contrato, os fornecedores de uma empresa se comprometem a respeitar uma série de promessas aos seus clientes, sob pena de multas.\n",
    "        </li>\n",
    "        <li>\n",
    "            Com o intuito de organizarem o cumprimento dessas condições, esses fornecedores estabelecem uma série de metas internas, a serem acompanhadas pelas suas equipes.\n",
    "        </li>\n",
    "        <li>\n",
    "            Abaixo, vamos definir o significado de uma série de termos usados nesses planejamentos.\n",
    "        </li>\n",
    "    </ul>\n",
    " </div>"
   ]
  },
  {
   "cell_type": "markdown",
   "id": "ff1b84df-0d6f-4dc5-b87c-9148714726d5",
   "metadata": {},
   "source": [
    "<h4 style='font-size:30px;font-style:italic;text-decoration:underline'> Service Level Agreement (SLA)</h4>\n",
    "<div> \n",
    "    <ul style='font-size:20px'> \n",
    "        <li> \n",
    "            Um SLA é a meta de qualidade de serviço explicitamente mencionada no contrato do fornecedor com o cliente. O seu não cumprimento acarretará em penas.\n",
    "        </li>\n",
    "    </ul>\n",
    " </div>"
   ]
  },
  {
   "cell_type": "code",
   "execution_count": 2,
   "id": "ea4c3834-cf2d-4276-b90c-49757d44d652",
   "metadata": {},
   "outputs": [
    {
     "name": "stdout",
     "output_type": "stream",
     "text": [
      "[master d6f84d1] Entender diferença entre SLA e SLO\n",
      " 2 files changed, 30 insertions(+), 32 deletions(-)\n"
     ]
    },
    {
     "name": "stderr",
     "output_type": "stream",
     "text": [
      "failed to send, dropping 1 traces to intake at http://localhost:8126/v0.5/traces after 3 retries\n"
     ]
    },
    {
     "name": "stdout",
     "output_type": "stream",
     "text": [
      "Enumerating objects: 7, done.\n",
      "Counting objects: 100% (7/7), done.\n",
      "Delta compression using up to 24 threads\n",
      "Compressing objects: 100% (4/4), done.\n",
      "Writing objects: 100% (4/4), 694 bytes | 694.00 KiB/s, done.\n",
      "Total 4 (delta 3), reused 0 (delta 0), pack-reused 0\n",
      "remote: Resolving deltas: 100% (3/3), completed with 3 local objects.\u001b[K\n",
      "To https://github.com/felipesveiga/datadog.git\n",
      "   ae8eb90..d6f84d1  master -> master\n"
     ]
    }
   ],
   "source": [
    "! git add .\n",
    "! git commit -am 'Continuar de \"Wait, What’s a Service?\"'\n",
    "! git push"
   ]
  },
  {
   "cell_type": "markdown",
   "id": "41b50a82-c6c2-46dd-be65-dff1c30f4f63",
   "metadata": {
    "editable": true,
    "slideshow": {
     "slide_type": ""
    },
    "tags": []
   },
   "source": [
    "<p style='color:red'> Iniciei artigo de Service Level; Continuar de \"Wait, What’s a Service?\"; Definir SLO, SLI, Error Budget; Aula 34"
   ]
  }
 ],
 "metadata": {
  "kernelspec": {
   "display_name": "Python 3 (ipykernel)",
   "language": "python",
   "name": "python3"
  },
  "language_info": {
   "codemirror_mode": {
    "name": "ipython",
    "version": 3
   },
   "file_extension": ".py",
   "mimetype": "text/x-python",
   "name": "python",
   "nbconvert_exporter": "python",
   "pygments_lexer": "ipython3",
   "version": "3.10.12"
  }
 },
 "nbformat": 4,
 "nbformat_minor": 5
}
