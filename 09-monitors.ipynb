{
 "cells": [
  {
   "cell_type": "markdown",
   "id": "1fff4417-3477-4d83-beab-4e28cbb6a0d9",
   "metadata": {},
   "source": [
    "<h1 style='font-size:40px'> Datadog Monitors (Alerts) and Notifications by Email, Slack and PagerDuty</h1>\n",
    "<div> \n",
    "    <ul style='font-size:20px'> \n",
    "        <li> \n",
    "            Monitores no universo Datadog são alertas que o agente poderá nos emitir.\n",
    "        </li>\n",
    "    </ul>\n",
    " </div>"
   ]
  },
  {
   "cell_type": "markdown",
   "id": "373a8932-7366-47b6-8471-822752892178",
   "metadata": {},
   "source": [
    "<h2 style='font-size:30px'> \n",
    "    Monitors - Create Monitors\n",
    "</h2>\n",
    "<div> \n",
    "    <ul style='font-size:20px'> \n",
    "        <li> \n",
    "            O Datadog possui suporte para criação de alertas para qualquer tipo de entidade monitorada.\n",
    "            <ul>\n",
    "                <li>\n",
    "                    <i> Hosts:</i> Para quando algum servidor parou de emitir dados. \n",
    "                </li>\n",
    "                <li>\n",
    "                    <i> Metrics:</i> Caso alguma métrica monitorada atingiu um certo threshold.\n",
    "                </li>\n",
    "                <li>\n",
    "                    <i> APM:</i> Quando algum resource apresentar um comportamento fora do esperado.\n",
    "                </li>\n",
    "            </ul>\n",
    "        </li>\n",
    "        <li>\n",
    "            As entidades mapeadas pelo Datadog receberão um indicador com o status de cada um de seus monitores em seus dashboards. \n",
    "        </li>\n",
    "    </ul>\n",
    " </div>"
   ]
  },
  {
   "attachments": {},
   "cell_type": "markdown",
   "id": "a430c315-86a7-4a31-8549-2f045c1ec0d1",
   "metadata": {},
   "source": [
    " <center style='font-size:20px;margin-top:20px'> \n",
    "        <figure>\n",
    "            <img src='img/09-monitors-dashboard.png'>\n",
    "        <figcaption style='font-size:15px'>\n",
    "            Os dashboards ganharão essa barra no canto superior, assim que um monitor for criado.\n",
    "        </figcaption>\n",
    "        </figure>\n",
    "    </center>"
   ]
  },
  {
   "cell_type": "markdown",
   "id": "cb817138-3b3a-4370-bbcb-809703b12135",
   "metadata": {},
   "source": [
    "<div> \n",
    "    <ul style='font-size:20px'> \n",
    "        <li> \n",
    "            Ao clicar na barra, você verá um resumo de cada monitor criado para a entidade em questão, assim como sugestões de outros alertas!\n",
    "        </li>\n",
    "    </ul>\n",
    " </div>"
   ]
  },
  {
   "attachments": {},
   "cell_type": "markdown",
   "id": "2276a21e-23b2-4d93-972c-b3bde1835644",
   "metadata": {},
   "source": [
    " <center style='font-size:20px;margin-top:20px'> \n",
    "        <figure>\n",
    "            <img src='img/09-monitor-summary.png'>\n",
    "        <figcaption style='font-size:15px'>\n",
    "        </figcaption>\n",
    "        </figure>\n",
    "    </center>"
   ]
  },
  {
   "cell_type": "code",
   "execution_count": 2,
   "id": "ea4c3834-cf2d-4276-b90c-49757d44d652",
   "metadata": {},
   "outputs": [
    {
     "name": "stdout",
     "output_type": "stream",
     "text": [
      "[master 25e14b4] Aula 27 (6:00)\n",
      " 2 files changed, 114 insertions(+), 10 deletions(-)\n"
     ]
    },
    {
     "name": "stderr",
     "output_type": "stream",
     "text": [
      "failed to send, dropping 1 traces to intake at http://localhost:8126/v0.5/traces after 3 retries\n"
     ]
    },
    {
     "name": "stdout",
     "output_type": "stream",
     "text": [
      "Enumerating objects: 7, done.\n",
      "Counting objects: 100% (7/7), done.\n",
      "Delta compression using up to 24 threads\n",
      "Compressing objects: 100% (4/4), done.\n",
      "Writing objects: 100% (4/4), 1.66 KiB | 1.66 MiB/s, done.\n",
      "Total 4 (delta 2), reused 0 (delta 0), pack-reused 0\n",
      "remote: Resolving deltas: 100% (2/2), completed with 2 local objects.\u001b[K\n",
      "To https://github.com/felipesveiga/datadog.git\n",
      "   26f3b24..25e14b4  master -> master\n"
     ]
    }
   ],
   "source": [
    "! git add .\n",
    "! git commit -am 'Aula 29'\n",
    "! git push"
   ]
  },
  {
   "cell_type": "markdown",
   "id": "b4d29cfc-28e3-4e73-9b7b-7a7fcd9710bb",
   "metadata": {
    "editable": true,
    "slideshow": {
     "slide_type": ""
    },
    "tags": []
   },
   "source": [
    "<p style='color:red'> Vi Aula 27 e 28 ; Aula 29"
   ]
  }
 ],
 "metadata": {
  "kernelspec": {
   "display_name": "Python 3 (ipykernel)",
   "language": "python",
   "name": "python3"
  },
  "language_info": {
   "codemirror_mode": {
    "name": "ipython",
    "version": 3
   },
   "file_extension": ".py",
   "mimetype": "text/x-python",
   "name": "python",
   "nbconvert_exporter": "python",
   "pygments_lexer": "ipython3",
   "version": "3.10.12"
  }
 },
 "nbformat": 4,
 "nbformat_minor": 5
}
