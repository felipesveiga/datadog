{
 "cells": [
  {
   "cell_type": "markdown",
   "id": "1fff4417-3477-4d83-beab-4e28cbb6a0d9",
   "metadata": {},
   "source": [
    "<h1 style='font-size:40px'> Datadog Monitors (Alerts) and Notifications by Email, Slack and PagerDuty</h1>"
   ]
  },
  {
   "cell_type": "markdown",
   "id": "373a8932-7366-47b6-8471-822752892178",
   "metadata": {},
   "source": [
    "<h2 style='font-size:30px'> \n",
    "    Monitors - Create Monitors\n",
    "</h2>\n",
    "<div> \n",
    "    <ul style='font-size:20px'> \n",
    "        <li> \n",
    "        </li>\n",
    "    </ul>\n",
    " </div>"
   ]
  },
  {
   "cell_type": "code",
   "execution_count": null,
   "id": "ea4c3834-cf2d-4276-b90c-49757d44d652",
   "metadata": {},
   "outputs": [],
   "source": [
    "! git add .\n",
    "! git commit -am 'Iniciar Seção 9'\n",
    "! git push"
   ]
  },
  {
   "cell_type": "markdown",
   "id": "b4d29cfc-28e3-4e73-9b7b-7a7fcd9710bb",
   "metadata": {
    "editable": true,
    "slideshow": {
     "slide_type": ""
    },
    "tags": []
   },
   "source": [
    "<p style='color:red'> Vi Aula 18; Iniciar Seção 9"
   ]
  }
 ],
 "metadata": {
  "kernelspec": {
   "display_name": "Python 3 (ipykernel)",
   "language": "python",
   "name": "python3"
  },
  "language_info": {
   "codemirror_mode": {
    "name": "ipython",
    "version": 3
   },
   "file_extension": ".py",
   "mimetype": "text/x-python",
   "name": "python",
   "nbconvert_exporter": "python",
   "pygments_lexer": "ipython3",
   "version": "3.10.12"
  }
 },
 "nbformat": 4,
 "nbformat_minor": 5
}
