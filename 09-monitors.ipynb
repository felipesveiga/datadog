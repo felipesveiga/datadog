{
 "cells": [
  {
   "cell_type": "markdown",
   "id": "1fff4417-3477-4d83-beab-4e28cbb6a0d9",
   "metadata": {},
   "source": [
    "<h1 style='font-size:40px'> Datadog Monitors (Alerts) and Notifications by Email, Slack and PagerDuty</h1>\n",
    "<div> \n",
    "    <ul style='font-size:20px'> \n",
    "        <li> \n",
    "            Monitores no universo Datadog são alertas que o agente poderá nos emitir.\n",
    "        </li>\n",
    "    </ul>\n",
    " </div>"
   ]
  },
  {
   "cell_type": "markdown",
   "id": "373a8932-7366-47b6-8471-822752892178",
   "metadata": {},
   "source": [
    "<h2 style='font-size:30px'> \n",
    "    Monitors - Create Monitors\n",
    "</h2>\n",
    "<div> \n",
    "    <ul style='font-size:20px'> \n",
    "        <li> \n",
    "            O Datadog possui suporte para criação de alertas para qualquer tipo de entidade monitorada.\n",
    "            <ul>\n",
    "                <li>\n",
    "                    <i> Hosts:</i> Para quando algum servidor parou de emitir dados. \n",
    "                </li>\n",
    "                <li>\n",
    "                    <i> Metrics:</i> Caso alguma métrica monitorada atingiu um certo threshold.\n",
    "                </li>\n",
    "                <li>\n",
    "                    <i> APM:</i> Quando algum resource apresentar um comportamento fora do esperado.\n",
    "                </li>\n",
    "            </ul>\n",
    "        </li>\n",
    "        <li>\n",
    "            As entidades mapeadas pelo Datadog receberão um indicador com o status de cada um de seus monitores em seus dashboards. \n",
    "        </li>\n",
    "    </ul>\n",
    " </div>"
   ]
  },
  {
   "attachments": {},
   "cell_type": "markdown",
   "id": "a430c315-86a7-4a31-8549-2f045c1ec0d1",
   "metadata": {},
   "source": [
    " <center style='font-size:20px;margin-top:20px'> \n",
    "        <figure>\n",
    "            <img src='img/09-monitors-dashboard.png'>\n",
    "        <figcaption style='font-size:15px'>\n",
    "            Os dashboards ganharão essa barra no canto superior, assim que um monitor for criado.\n",
    "        </figcaption>\n",
    "        </figure>\n",
    "    </center>"
   ]
  },
  {
   "cell_type": "markdown",
   "id": "cb817138-3b3a-4370-bbcb-809703b12135",
   "metadata": {},
   "source": [
    "<div> \n",
    "    <ul style='font-size:20px'> \n",
    "        <li> \n",
    "            Ao clicar na barra, você verá um resumo de cada monitor criado para a entidade em questão, assim como sugestões de outros alertas!\n",
    "        </li>\n",
    "    </ul>\n",
    " </div>"
   ]
  },
  {
   "attachments": {},
   "cell_type": "markdown",
   "id": "2276a21e-23b2-4d93-972c-b3bde1835644",
   "metadata": {},
   "source": [
    " <center style='font-size:20px;margin-top:20px'> \n",
    "        <figure>\n",
    "            <img src='img/09-monitor-summary.png'>\n",
    "        <figcaption style='font-size:15px'>\n",
    "        </figcaption>\n",
    "        </figure>\n",
    "    </center>"
   ]
  },
  {
   "cell_type": "markdown",
   "id": "a102932e-c803-47aa-af71-916c3e387df2",
   "metadata": {},
   "source": [
    "<h2 style='font-size:30px'> \n",
    "    Monitors - Management\n",
    "</h2>\n",
    "<div> \n",
    "    <ul style='font-size:20px'> \n",
    "        <li> \n",
    "            O menu de \"Manage Monitors\" oferece uma tabela com os status de todos os monitores criados para as suas aplicações.\n",
    "        </li>\n",
    "        <li>\n",
    "            Assim como nos demais menus, você consegue criar views personalizadas com filtros e informações adicionais. \n",
    "        </li>\n",
    "    </ul>\n",
    " </div>"
   ]
  },
  {
   "attachments": {},
   "cell_type": "markdown",
   "id": "8ce51317-fc02-4a51-b283-3ced6aeb6f2d",
   "metadata": {},
   "source": [
    " <center style='font-size:20px;margin-top:20px'> \n",
    "        <figure>\n",
    "            <img src='img/09-manage-monitors.png'>\n",
    "        <figcaption style='font-size:15px'>\n",
    "            Tabela de \"Manage Monitors\".\n",
    "        </figcaption>\n",
    "        </figure>\n",
    "    </center>"
   ]
  },
  {
   "cell_type": "markdown",
   "id": "12d40c23-844d-4e28-8e2e-25173a3dd6de",
   "metadata": {},
   "source": [
    "<h3 style='font-size:30px;font-style:italic'> Downtimes</h3>\n",
    "<div> \n",
    "    <ul style='font-size:20px'> \n",
    "        <li>\n",
    "            Downtimes consistem em períodos em que desejamos mutar os nossos monitors. Essa ação é conveniente quando estamos aplicando uma GMUD em nosso ambiente, por exemplo.\n",
    "        </li>\n",
    "        <li>\n",
    "            No menu dos monitors, você pode configurar esses downtimes.\n",
    "        </li>\n",
    "    </ul>\n",
    "</div>"
   ]
  },
  {
   "attachments": {},
   "cell_type": "markdown",
   "id": "eaa2a8bf-c310-45ff-bc21-f8074b893b65",
   "metadata": {},
   "source": [
    " <center style='font-size:20px;margin-top:20px'> \n",
    "        <figure>\n",
    "            <img src='img/09-downtime.png'>\n",
    "        <figcaption style='font-size:15px'>\n",
    "            Formulário para definição de downtime.\n",
    "        </figcaption>\n",
    "        </figure>\n",
    "    </center>"
   ]
  },
  {
   "cell_type": "markdown",
   "id": "6d9cbf80-1d39-4dd5-a2d9-d8f03360b627",
   "metadata": {},
   "source": [
    "<h3 style='font-size:30px;font-style:italic'> Monitor Notifications Overview</h3>\n",
    "<div> \n",
    "    <ul style='font-size:20px'> \n",
    "        <li>\n",
    "            O Montor Notifications Oveview é um dashboard criado automaticamente pelo Datadog. Nele, você poderá enxergar informações gerais sobre os monitors de sua aplicação.\n",
    "        </li>\n",
    "    </ul>\n",
    "</div>"
   ]
  },
  {
   "attachments": {},
   "cell_type": "markdown",
   "id": "26125787-f32a-4602-8672-f1fc4090a05a",
   "metadata": {},
   "source": [
    " <center style='font-size:20px;margin-top:20px'> \n",
    "        <figure>\n",
    "            <img src='img/09-notifications-overview.png'>\n",
    "        <figcaption style='font-size:15px'>\n",
    "            Exemplo de Monitors Notifications Overview.\n",
    "        </figcaption>\n",
    "        </figure>\n",
    "    </center>"
   ]
  },
  {
   "cell_type": "code",
   "execution_count": 7,
   "id": "ea4c3834-cf2d-4276-b90c-49757d44d652",
   "metadata": {},
   "outputs": [
    {
     "name": "stdout",
     "output_type": "stream",
     "text": [
      "[master 8310544] Aula 29\n",
      " 4 files changed, 132 insertions(+), 40 deletions(-)\n",
      " create mode 100644 img/09-monitor-summary.png\n",
      " create mode 100644 img/09-monitors-dashboard.png\n",
      "Enumerating objects: 11, done.\n",
      "Counting objects: 100% (11/11), done.\n",
      "Delta compression using up to 24 threads\n",
      "Compressing objects: 100% (7/7), done.\n",
      "Writing objects: 100% (7/7), 103.68 KiB | 51.84 MiB/s, done.\n",
      "Total 7 (delta 4), reused 0 (delta 0), pack-reused 0\n"
     ]
    },
    {
     "name": "stderr",
     "output_type": "stream",
     "text": [
      "failed to send, dropping 1 traces to intake at http://localhost:8126/v0.5/traces after 3 retries [3 skipped]\n"
     ]
    },
    {
     "name": "stdout",
     "output_type": "stream",
     "text": [
      "remote: Resolving deltas: 100% (4/4), completed with 4 local objects.\u001b[K\n",
      "To https://github.com/felipesveiga/datadog.git\n",
      "   25e14b4..8310544  master -> master\n"
     ]
    }
   ],
   "source": [
    "! git add .\n",
    "! git commit -am 'Aula 31'\n",
    "! git push"
   ]
  },
  {
   "cell_type": "markdown",
   "id": "b4d29cfc-28e3-4e73-9b7b-7a7fcd9710bb",
   "metadata": {
    "editable": true,
    "slideshow": {
     "slide_type": ""
    },
    "tags": []
   },
   "source": [
    "<p style='color:red'> Vi Aula 29 e 30; Aula 31"
   ]
  }
 ],
 "metadata": {
  "kernelspec": {
   "display_name": "Python 3 (ipykernel)",
   "language": "python",
   "name": "python3"
  },
  "language_info": {
   "codemirror_mode": {
    "name": "ipython",
    "version": 3
   },
   "file_extension": ".py",
   "mimetype": "text/x-python",
   "name": "python",
   "nbconvert_exporter": "python",
   "pygments_lexer": "ipython3",
   "version": "3.10.12"
  }
 },
 "nbformat": 4,
 "nbformat_minor": 5
}
