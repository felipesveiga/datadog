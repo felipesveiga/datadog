{
 "cells": [
  {
   "cell_type": "markdown",
   "id": "1fff4417-3477-4d83-beab-4e28cbb6a0d9",
   "metadata": {},
   "source": [
    "<h1 style='font-size:40px'> Datadog Monitors (Alerts) and Notifications by Email, Slack and PagerDuty</h1>\n",
    "<div> \n",
    "    <ul style='font-size:20px'> \n",
    "        <li> \n",
    "            Monitores no universo Datadog são alertas que o agente poderá nos emitir.\n",
    "        </li>\n",
    "    </ul>\n",
    " </div>"
   ]
  },
  {
   "cell_type": "markdown",
   "id": "373a8932-7366-47b6-8471-822752892178",
   "metadata": {},
   "source": [
    "<h2 style='font-size:30px'> \n",
    "    Monitors - Create Monitors\n",
    "</h2>\n",
    "<div> \n",
    "    <ul style='font-size:20px'> \n",
    "        <li> \n",
    "            O Datadog possui suporte para criação de alertas para qualquer tipo de entidade monitorada.\n",
    "            <ul>\n",
    "                <li>\n",
    "                    <i> Hosts:</i> Notificações sobre se algum servidor parou de emitir dados. \n",
    "                </li>\n",
    "                <li>\n",
    "                    <i> Metrics:</i>\n",
    "                </li>\n",
    "            </ul>\n",
    "        </li>\n",
    "    </ul>\n",
    " </div>"
   ]
  },
  {
   "cell_type": "code",
   "execution_count": 1,
   "id": "ea4c3834-cf2d-4276-b90c-49757d44d652",
   "metadata": {},
   "outputs": [
    {
     "name": "stdout",
     "output_type": "stream",
     "text": [
      "[master 26f3b24] Iniciar Seção 9\n",
      " 7 files changed, 302 insertions(+), 106 deletions(-)\n",
      " create mode 100644 .ipynb_checkpoints/09-monitors-checkpoint.ipynb\n",
      " create mode 100644 09-monitors.ipynb\n",
      " create mode 100644 img/06-error-tracking.png\n",
      " create mode 100644 img/06-flame-graph.png\n",
      " create mode 100644 img/06-flame-profiler.png\n",
      "Enumerating objects: 13, done.\n",
      "Counting objects: 100% (13/13), done.\n",
      "Delta compression using up to 24 threads\n",
      "Compressing objects: 100% (9/9), done.\n",
      "Writing objects: 100% (9/9), 227.99 KiB | 14.25 MiB/s, done.\n",
      "Total 9 (delta 5), reused 0 (delta 0), pack-reused 0\n"
     ]
    },
    {
     "name": "stderr",
     "output_type": "stream",
     "text": [
      "failed to send, dropping 1 traces to intake at http://localhost:8126/v0.5/traces after 3 retries\n"
     ]
    },
    {
     "name": "stdout",
     "output_type": "stream",
     "text": [
      "remote: Resolving deltas: 100% (5/5), completed with 4 local objects.\u001b[K\n",
      "To https://github.com/felipesveiga/datadog.git\n",
      "   ae75bd0..26f3b24  master -> master\n"
     ]
    }
   ],
   "source": [
    "! git add .\n",
    "! git commit -am 'Aula 27 (6:00)'\n",
    "! git push"
   ]
  },
  {
   "cell_type": "markdown",
   "id": "b4d29cfc-28e3-4e73-9b7b-7a7fcd9710bb",
   "metadata": {
    "editable": true,
    "slideshow": {
     "slide_type": ""
    },
    "tags": []
   },
   "source": [
    "<p style='color:red'> Iniciei Seção 9; Aula 27 (6:00)"
   ]
  }
 ],
 "metadata": {
  "kernelspec": {
   "display_name": "Python 3 (ipykernel)",
   "language": "python",
   "name": "python3"
  },
  "language_info": {
   "codemirror_mode": {
    "name": "ipython",
    "version": 3
   },
   "file_extension": ".py",
   "mimetype": "text/x-python",
   "name": "python",
   "nbconvert_exporter": "python",
   "pygments_lexer": "ipython3",
   "version": "3.10.12"
  }
 },
 "nbformat": 4,
 "nbformat_minor": 5
}
