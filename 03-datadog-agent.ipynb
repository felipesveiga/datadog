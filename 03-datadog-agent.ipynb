{
 "cells": [
  {
   "cell_type": "markdown",
   "id": "fefa1335-2294-452a-b162-3303cc8e7f3b",
   "metadata": {},
   "source": [
    "<h1 style='font-size:40px'> Datadog Agent: Definitions, Configuration and Integrations</h1>"
   ]
  },
  {
   "cell_type": "markdown",
   "id": "4bc8a0bd-d0be-4bf4-83f8-f729760b092b",
   "metadata": {
    "jp-MarkdownHeadingCollapsed": true
   },
   "source": [
    "<h2 style='font-size:30px'> Datadog Agent - definitions and configurations\n",
    "</h2>\n",
    "<div> \n",
    "    <ul style='font-size:20px'> \n",
    "        <li> \n",
    "            Um agente Datadog é um software responsável por coletar e encaminhar dados de seu host para o site do Datadog.\n",
    "        </li>\n",
    "        <li>\n",
    "            Seus principais componentes são:\n",
    "            <ul>\n",
    "                <li>\n",
    "                    <i>Collector</i>: Coleta os dados sobre o host.\n",
    "                </li>\n",
    "                <li>\n",
    "                    <i>Forwarder</i>: Envia os dados ao Datadog via HTTPS.\n",
    "                </li>\n",
    "            </ul>\n",
    "        </li>\n",
    "        <li>\n",
    "            O arquivo de configuração do Agente pode será `/etc/datadog-agent/datadog.yaml`. Já o das integrações em `/etc/datadog-agent/conf.d/`.\n",
    "        </li>\n",
    "    </ul>\n",
    "</div>"
   ]
  },
  {
   "cell_type": "markdown",
   "id": "c8eb40f3-0d83-4cd0-9b90-d5ddaae57c47",
   "metadata": {},
   "source": [
    "<figure>\n",
    "    <center style='font-size:20px;margin-top:20px'> \n",
    "            <img src='img/03_datadog_flow.png'>\n",
    "        <figcaption style='font-size:15px'>\n",
    "            Esquematização do envio de dados do Datadog.\n",
    "        </figcaption>\n",
    "    </center>\n",
    "</figure>"
   ]
  },
  {
   "cell_type": "code",
   "execution_count": 1,
   "id": "8af55148-9683-4689-a5b3-4bfd7100c715",
   "metadata": {
    "scrolled": true
   },
   "outputs": [
    {
     "name": "stdout",
     "output_type": "stream",
     "text": [
      "[master c220eb5] Aula 7 (1:40)\n",
      " 5 files changed, 244 insertions(+), 78 deletions(-)\n",
      " create mode 100644 .ipynb_checkpoints/03-datadog-agent-checkpoint.ipynb\n",
      " create mode 100644 03-datadog-agent.ipynb\n",
      " create mode 100644 img/02_datadog_terminal.png\n",
      "Enumerating objects: 10, done.\n",
      "Counting objects: 100% (10/10), done.\n",
      "Delta compression using up to 24 threads\n",
      "Compressing objects: 100% (7/7), done.\n",
      "Writing objects: 100% (7/7), 24.56 KiB | 24.56 MiB/s, done.\n",
      "Total 7 (delta 2), reused 0 (delta 0), pack-reused 0\n",
      "remote: Resolving deltas: 100% (2/2), completed with 1 local object.\u001b[K\n",
      "To https://github.com/felipesveiga/datadog.git\n",
      "   30ab2d1..c220eb5  master -> master\n"
     ]
    }
   ],
   "source": [
    "! git add .\n",
    "! git commit -am 'Fazer anotações Aula 8'\n",
    "! git push"
   ]
  },
  {
   "cell_type": "markdown",
   "id": "dc1ff2e6-3e4a-49e0-8257-d459aee151ca",
   "metadata": {
    "editable": true,
    "slideshow": {
     "slide_type": ""
    },
    "tags": []
   },
   "source": [
    "<p style='color:red'> Vi Aula 7 e 8; Fazer anotações Aula 8"
   ]
  }
 ],
 "metadata": {
  "kernelspec": {
   "display_name": "Python 3 (ipykernel)",
   "language": "python",
   "name": "python3"
  },
  "language_info": {
   "codemirror_mode": {
    "name": "ipython",
    "version": 3
   },
   "file_extension": ".py",
   "mimetype": "text/x-python",
   "name": "python",
   "nbconvert_exporter": "python",
   "pygments_lexer": "ipython3",
   "version": "3.10.12"
  }
 },
 "nbformat": 4,
 "nbformat_minor": 5
}
